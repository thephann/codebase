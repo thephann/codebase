{
 "cells": [
  {
   "cell_type": "markdown",
   "id": "75bfd3f7",
   "metadata": {
    "execution": {
     "iopub.execute_input": "2021-10-31T09:13:40.111998Z",
     "iopub.status.busy": "2021-10-31T09:13:40.111623Z",
     "iopub.status.idle": "2021-10-31T09:13:51.249512Z",
     "shell.execute_reply": "2021-10-31T09:13:51.248482Z",
     "shell.execute_reply.started": "2021-10-31T09:13:40.111902Z"
    },
    "papermill": {
     "duration": 0.018263,
     "end_time": "2022-03-31T17:39:52.856227",
     "exception": false,
     "start_time": "2022-03-31T17:39:52.837964",
     "status": "completed"
    },
    "tags": []
   },
   "source": [
    "## Install Tabnet library"
   ]
  },
  {
   "cell_type": "code",
   "execution_count": 1,
   "id": "6f9b20b5",
   "metadata": {
    "execution": {
     "iopub.execute_input": "2022-03-31T17:39:52.899876Z",
     "iopub.status.busy": "2022-03-31T17:39:52.899107Z",
     "iopub.status.idle": "2022-03-31T17:39:52.902454Z",
     "shell.execute_reply": "2022-03-31T17:39:52.902893Z",
     "shell.execute_reply.started": "2022-03-31T15:19:32.404093Z"
    },
    "papermill": {
     "duration": 0.029715,
     "end_time": "2022-03-31T17:39:52.903136",
     "exception": false,
     "start_time": "2022-03-31T17:39:52.873421",
     "status": "completed"
    },
    "tags": []
   },
   "outputs": [],
   "source": [
    "import sys\n",
    "sys.path.append(\"../input/tabnetdreamquark/tabnet-develop\")"
   ]
  },
  {
   "cell_type": "code",
   "execution_count": 2,
   "id": "ec64ab59",
   "metadata": {
    "execution": {
     "iopub.execute_input": "2022-03-31T17:39:52.939937Z",
     "iopub.status.busy": "2022-03-31T17:39:52.939355Z",
     "iopub.status.idle": "2022-03-31T17:39:52.941960Z",
     "shell.execute_reply": "2022-03-31T17:39:52.941511Z",
     "shell.execute_reply.started": "2022-03-31T16:44:25.930497Z"
    },
    "papermill": {
     "duration": 0.022413,
     "end_time": "2022-03-31T17:39:52.942060",
     "exception": false,
     "start_time": "2022-03-31T17:39:52.919647",
     "status": "completed"
    },
    "tags": []
   },
   "outputs": [],
   "source": [
    "sys.path.append(\"../input/torch-sample/torchsample-master\")"
   ]
  },
  {
   "cell_type": "markdown",
   "id": "6f956359",
   "metadata": {
    "papermill": {
     "duration": 0.016644,
     "end_time": "2022-03-31T17:39:52.975291",
     "exception": false,
     "start_time": "2022-03-31T17:39:52.958647",
     "status": "completed"
    },
    "tags": []
   },
   "source": [
    "## Import required libraries"
   ]
  },
  {
   "cell_type": "code",
   "execution_count": 3,
   "id": "53aad1b8",
   "metadata": {
    "execution": {
     "iopub.execute_input": "2022-03-31T17:39:53.016966Z",
     "iopub.status.busy": "2022-03-31T17:39:53.016342Z",
     "iopub.status.idle": "2022-03-31T17:39:55.639356Z",
     "shell.execute_reply": "2022-03-31T17:39:55.638793Z",
     "shell.execute_reply.started": "2022-03-31T17:06:36.989760Z"
    },
    "papermill": {
     "duration": 2.647702,
     "end_time": "2022-03-31T17:39:55.639494",
     "exception": false,
     "start_time": "2022-03-31T17:39:52.991792",
     "status": "completed"
    },
    "tags": []
   },
   "outputs": [
    {
     "data": {
      "text/html": [
       "<style type='text/css'>\n",
       ".datatable table.frame { margin-bottom: 0; }\n",
       ".datatable table.frame thead { border-bottom: none; }\n",
       ".datatable table.frame tr.coltypes td {  color: #FFFFFF;  line-height: 6px;  padding: 0 0.5em;}\n",
       ".datatable .bool    { background: #DDDD99; }\n",
       ".datatable .object  { background: #565656; }\n",
       ".datatable .int     { background: #5D9E5D; }\n",
       ".datatable .float   { background: #4040CC; }\n",
       ".datatable .str     { background: #CC4040; }\n",
       ".datatable .time    { background: #40CC40; }\n",
       ".datatable .row_index {  background: var(--jp-border-color3);  border-right: 1px solid var(--jp-border-color0);  color: var(--jp-ui-font-color3);  font-size: 9px;}\n",
       ".datatable .frame tbody td { text-align: left; }\n",
       ".datatable .frame tr.coltypes .row_index {  background: var(--jp-border-color0);}\n",
       ".datatable th:nth-child(2) { padding-left: 12px; }\n",
       ".datatable .hellipsis {  color: var(--jp-cell-editor-border-color);}\n",
       ".datatable .vellipsis {  background: var(--jp-layout-color0);  color: var(--jp-cell-editor-border-color);}\n",
       ".datatable .na {  color: var(--jp-cell-editor-border-color);  font-size: 80%;}\n",
       ".datatable .sp {  opacity: 0.25;}\n",
       ".datatable .footer { font-size: 9px; }\n",
       ".datatable .frame_dimensions {  background: var(--jp-border-color3);  border-top: 1px solid var(--jp-border-color0);  color: var(--jp-ui-font-color3);  display: inline-block;  opacity: 0.6;  padding: 1px 10px 1px 5px;}\n",
       "</style>\n"
      ],
      "text/plain": [
       "<IPython.core.display.HTML object>"
      ]
     },
     "metadata": {},
     "output_type": "display_data"
    }
   ],
   "source": [
    "import os\n",
    "\n",
    "import torch\n",
    "import torchvision \n",
    "import torch.nn as nn\n",
    "from torchvision import datasets, transforms\n",
    "from torch.utils.data import Dataset\n",
    "import pandas as pd\n",
    "import numpy as np\n",
    "import datatable as dt\n",
    "import warnings\n",
    "import random\n",
    "warnings.filterwarnings('ignore')\n",
    "pd.set_option('max_columns',None)\n",
    "from sklearn.metrics import mean_squared_error\n",
    "\n",
    "import PIL\n",
    "\n",
    "from time import time\n",
    "import pprint\n",
    "import joblib\n",
    "from functools import partial\n",
    "from sklearn.model_selection import KFold, StratifiedKFold\n",
    "\n",
    "from sklearn.model_selection import train_test_split\n",
    "from sklearn.metrics import classification_report\n",
    "\n",
    "from pytorch_tabnet.tab_model import TabNetRegressor\n",
    "\n",
    "from matplotlib import pyplot as plt\n",
    "%matplotlib inline"
   ]
  },
  {
   "cell_type": "code",
   "execution_count": 4,
   "id": "7bb3c780",
   "metadata": {
    "execution": {
     "iopub.execute_input": "2022-03-31T17:39:55.677574Z",
     "iopub.status.busy": "2022-03-31T17:39:55.676795Z",
     "iopub.status.idle": "2022-03-31T17:39:55.944643Z",
     "shell.execute_reply": "2022-03-31T17:39:55.945525Z",
     "shell.execute_reply.started": "2022-03-31T16:44:28.775648Z"
    },
    "papermill": {
     "duration": 0.288633,
     "end_time": "2022-03-31T17:39:55.945683",
     "exception": false,
     "start_time": "2022-03-31T17:39:55.657050",
     "status": "completed"
    },
    "tags": []
   },
   "outputs": [],
   "source": [
    "from torchsample.modules import ModuleTrainer"
   ]
  },
  {
   "cell_type": "markdown",
   "id": "dce35552",
   "metadata": {
    "papermill": {
     "duration": 0.031986,
     "end_time": "2022-03-31T17:39:56.007711",
     "exception": false,
     "start_time": "2022-03-31T17:39:55.975725",
     "status": "completed"
    },
    "tags": []
   },
   "source": [
    "## Defined global variables"
   ]
  },
  {
   "cell_type": "code",
   "execution_count": 5,
   "id": "a4b5341b",
   "metadata": {
    "execution": {
     "iopub.execute_input": "2022-03-31T17:39:56.082502Z",
     "iopub.status.busy": "2022-03-31T17:39:56.080911Z",
     "iopub.status.idle": "2022-03-31T17:39:56.089049Z",
     "shell.execute_reply": "2022-03-31T17:39:56.089729Z",
     "shell.execute_reply.started": "2022-03-31T17:25:48.198560Z"
    },
    "papermill": {
     "duration": 0.050162,
     "end_time": "2022-03-31T17:39:56.089914",
     "exception": false,
     "start_time": "2022-03-31T17:39:56.039752",
     "status": "completed"
    },
    "tags": []
   },
   "outputs": [
    {
     "name": "stdout",
     "output_type": "stream",
     "text": [
      "['sample_submission.csv', 'train.csv', 'test.csv', 'test', 'train']\n"
     ]
    }
   ],
   "source": [
    "data_dir = '../input/petfinder-pawpularity-score/'\n",
    "working_dir = './'\n",
    "global_batch_size = 32\n",
    "workers = 2\n",
    "seed = 42\n",
    "model_name = 'resnet50_pretrained'\n",
    "model_path = model_name\n",
    "print(os.listdir(data_dir))\n",
    "MAX_EPOCHS_TABNET = 1000"
   ]
  },
  {
   "cell_type": "code",
   "execution_count": 6,
   "id": "fd568688",
   "metadata": {
    "execution": {
     "iopub.execute_input": "2022-03-31T17:39:56.157206Z",
     "iopub.status.busy": "2022-03-31T17:39:56.154865Z",
     "iopub.status.idle": "2022-03-31T17:39:56.158127Z",
     "shell.execute_reply": "2022-03-31T17:39:56.158792Z",
     "shell.execute_reply.started": "2022-03-31T15:19:35.235244Z"
    },
    "papermill": {
     "duration": 0.041316,
     "end_time": "2022-03-31T17:39:56.158976",
     "exception": false,
     "start_time": "2022-03-31T17:39:56.117660",
     "status": "completed"
    },
    "tags": []
   },
   "outputs": [],
   "source": [
    "# Defining a function to seed everything.\n",
    "def seed_everything(seed):\n",
    "    random.seed(seed)\n",
    "    os.environ[\"PYTHONSEED\"] = str(seed)\n",
    "    np.random.seed(seed)\n",
    "    torch.cuda.manual_seed(seed)\n",
    "    torch.cuda.manual_seed_all(seed)\n",
    "    torch.backends.cudnn.deterministic = True\n",
    "\n",
    "# Running the function:\n",
    "seed_everything(seed)"
   ]
  },
  {
   "cell_type": "markdown",
   "id": "2181d214",
   "metadata": {
    "papermill": {
     "duration": 0.029294,
     "end_time": "2022-03-31T17:39:56.218401",
     "exception": false,
     "start_time": "2022-03-31T17:39:56.189107",
     "status": "completed"
    },
    "tags": []
   },
   "source": [
    "## Import data"
   ]
  },
  {
   "cell_type": "code",
   "execution_count": 7,
   "id": "b5d56912",
   "metadata": {
    "execution": {
     "iopub.execute_input": "2022-03-31T17:39:56.282617Z",
     "iopub.status.busy": "2022-03-31T17:39:56.281465Z",
     "iopub.status.idle": "2022-03-31T17:39:56.342280Z",
     "shell.execute_reply": "2022-03-31T17:39:56.343304Z",
     "shell.execute_reply.started": "2022-03-31T15:19:35.257422Z"
    },
    "papermill": {
     "duration": 0.095781,
     "end_time": "2022-03-31T17:39:56.343488",
     "exception": false,
     "start_time": "2022-03-31T17:39:56.247707",
     "status": "completed"
    },
    "tags": []
   },
   "outputs": [
    {
     "data": {
      "text/html": [
       "<div>\n",
       "<style scoped>\n",
       "    .dataframe tbody tr th:only-of-type {\n",
       "        vertical-align: middle;\n",
       "    }\n",
       "\n",
       "    .dataframe tbody tr th {\n",
       "        vertical-align: top;\n",
       "    }\n",
       "\n",
       "    .dataframe thead th {\n",
       "        text-align: right;\n",
       "    }\n",
       "</style>\n",
       "<table border=\"1\" class=\"dataframe\">\n",
       "  <thead>\n",
       "    <tr style=\"text-align: right;\">\n",
       "      <th></th>\n",
       "      <th>Id</th>\n",
       "      <th>Subject Focus</th>\n",
       "      <th>Eyes</th>\n",
       "      <th>Face</th>\n",
       "      <th>Near</th>\n",
       "      <th>Action</th>\n",
       "      <th>Accessory</th>\n",
       "      <th>Group</th>\n",
       "      <th>Collage</th>\n",
       "      <th>Human</th>\n",
       "      <th>Occlusion</th>\n",
       "      <th>Info</th>\n",
       "      <th>Blur</th>\n",
       "      <th>Pawpularity</th>\n",
       "    </tr>\n",
       "  </thead>\n",
       "  <tbody>\n",
       "    <tr>\n",
       "      <th>0</th>\n",
       "      <td>0007de18844b0dbbb5e1f607da0606e0</td>\n",
       "      <td>0</td>\n",
       "      <td>1</td>\n",
       "      <td>1</td>\n",
       "      <td>1</td>\n",
       "      <td>0</td>\n",
       "      <td>0</td>\n",
       "      <td>1</td>\n",
       "      <td>0</td>\n",
       "      <td>0</td>\n",
       "      <td>0</td>\n",
       "      <td>0</td>\n",
       "      <td>0</td>\n",
       "      <td>63</td>\n",
       "    </tr>\n",
       "    <tr>\n",
       "      <th>1</th>\n",
       "      <td>0009c66b9439883ba2750fb825e1d7db</td>\n",
       "      <td>0</td>\n",
       "      <td>1</td>\n",
       "      <td>1</td>\n",
       "      <td>0</td>\n",
       "      <td>0</td>\n",
       "      <td>0</td>\n",
       "      <td>0</td>\n",
       "      <td>0</td>\n",
       "      <td>0</td>\n",
       "      <td>0</td>\n",
       "      <td>0</td>\n",
       "      <td>0</td>\n",
       "      <td>42</td>\n",
       "    </tr>\n",
       "    <tr>\n",
       "      <th>2</th>\n",
       "      <td>0013fd999caf9a3efe1352ca1b0d937e</td>\n",
       "      <td>0</td>\n",
       "      <td>1</td>\n",
       "      <td>1</td>\n",
       "      <td>1</td>\n",
       "      <td>0</td>\n",
       "      <td>0</td>\n",
       "      <td>0</td>\n",
       "      <td>0</td>\n",
       "      <td>1</td>\n",
       "      <td>1</td>\n",
       "      <td>0</td>\n",
       "      <td>0</td>\n",
       "      <td>28</td>\n",
       "    </tr>\n",
       "    <tr>\n",
       "      <th>3</th>\n",
       "      <td>0018df346ac9c1d8413cfcc888ca8246</td>\n",
       "      <td>0</td>\n",
       "      <td>1</td>\n",
       "      <td>1</td>\n",
       "      <td>1</td>\n",
       "      <td>0</td>\n",
       "      <td>0</td>\n",
       "      <td>0</td>\n",
       "      <td>0</td>\n",
       "      <td>0</td>\n",
       "      <td>0</td>\n",
       "      <td>0</td>\n",
       "      <td>0</td>\n",
       "      <td>15</td>\n",
       "    </tr>\n",
       "    <tr>\n",
       "      <th>4</th>\n",
       "      <td>001dc955e10590d3ca4673f034feeef2</td>\n",
       "      <td>0</td>\n",
       "      <td>0</td>\n",
       "      <td>0</td>\n",
       "      <td>1</td>\n",
       "      <td>0</td>\n",
       "      <td>0</td>\n",
       "      <td>1</td>\n",
       "      <td>0</td>\n",
       "      <td>0</td>\n",
       "      <td>0</td>\n",
       "      <td>0</td>\n",
       "      <td>0</td>\n",
       "      <td>72</td>\n",
       "    </tr>\n",
       "  </tbody>\n",
       "</table>\n",
       "</div>"
      ],
      "text/plain": [
       "                                 Id  Subject Focus  Eyes  Face  Near  Action  \\\n",
       "0  0007de18844b0dbbb5e1f607da0606e0              0     1     1     1       0   \n",
       "1  0009c66b9439883ba2750fb825e1d7db              0     1     1     0       0   \n",
       "2  0013fd999caf9a3efe1352ca1b0d937e              0     1     1     1       0   \n",
       "3  0018df346ac9c1d8413cfcc888ca8246              0     1     1     1       0   \n",
       "4  001dc955e10590d3ca4673f034feeef2              0     0     0     1       0   \n",
       "\n",
       "   Accessory  Group  Collage  Human  Occlusion  Info  Blur  Pawpularity  \n",
       "0          0      1        0      0          0     0     0           63  \n",
       "1          0      0        0      0          0     0     0           42  \n",
       "2          0      0        0      1          1     0     0           28  \n",
       "3          0      0        0      0          0     0     0           15  \n",
       "4          0      1        0      0          0     0     0           72  "
      ]
     },
     "execution_count": 7,
     "metadata": {},
     "output_type": "execute_result"
    }
   ],
   "source": [
    "train_data = pd.read_csv(f'{data_dir}train.csv')\n",
    "train_data.head(5)"
   ]
  },
  {
   "cell_type": "code",
   "execution_count": 8,
   "id": "fa98b86c",
   "metadata": {
    "execution": {
     "iopub.execute_input": "2022-03-31T17:39:56.415632Z",
     "iopub.status.busy": "2022-03-31T17:39:56.414788Z",
     "iopub.status.idle": "2022-03-31T17:39:56.418360Z",
     "shell.execute_reply": "2022-03-31T17:39:56.416345Z",
     "shell.execute_reply.started": "2022-03-31T15:19:35.310229Z"
    },
    "papermill": {
     "duration": 0.042733,
     "end_time": "2022-03-31T17:39:56.418512",
     "exception": false,
     "start_time": "2022-03-31T17:39:56.375779",
     "status": "completed"
    },
    "tags": []
   },
   "outputs": [
    {
     "data": {
      "text/plain": [
       "(9912, 14)"
      ]
     },
     "execution_count": 8,
     "metadata": {},
     "output_type": "execute_result"
    }
   ],
   "source": [
    "train_data.shape"
   ]
  },
  {
   "cell_type": "code",
   "execution_count": 9,
   "id": "2fe65801",
   "metadata": {
    "execution": {
     "iopub.execute_input": "2022-03-31T17:39:56.490546Z",
     "iopub.status.busy": "2022-03-31T17:39:56.489808Z",
     "iopub.status.idle": "2022-03-31T17:39:56.496202Z",
     "shell.execute_reply": "2022-03-31T17:39:56.496780Z",
     "shell.execute_reply.started": "2022-03-31T15:22:55.467836Z"
    },
    "papermill": {
     "duration": 0.047151,
     "end_time": "2022-03-31T17:39:56.496952",
     "exception": false,
     "start_time": "2022-03-31T17:39:56.449801",
     "status": "completed"
    },
    "tags": []
   },
   "outputs": [
    {
     "data": {
      "text/plain": [
       "Id               0\n",
       "Subject Focus    0\n",
       "Eyes             0\n",
       "Face             0\n",
       "Near             0\n",
       "Action           0\n",
       "Accessory        0\n",
       "Group            0\n",
       "Collage          0\n",
       "Human            0\n",
       "Occlusion        0\n",
       "Info             0\n",
       "Blur             0\n",
       "Pawpularity      0\n",
       "dtype: int64"
      ]
     },
     "execution_count": 9,
     "metadata": {},
     "output_type": "execute_result"
    }
   ],
   "source": [
    "train_data.isnull().sum()"
   ]
  },
  {
   "cell_type": "code",
   "execution_count": 10,
   "id": "b1513798",
   "metadata": {
    "execution": {
     "iopub.execute_input": "2022-03-31T17:39:56.566955Z",
     "iopub.status.busy": "2022-03-31T17:39:56.566464Z",
     "iopub.status.idle": "2022-03-31T17:39:56.571246Z",
     "shell.execute_reply": "2022-03-31T17:39:56.570792Z",
     "shell.execute_reply.started": "2022-03-31T15:22:31.904155Z"
    },
    "papermill": {
     "duration": 0.043531,
     "end_time": "2022-03-31T17:39:56.571351",
     "exception": false,
     "start_time": "2022-03-31T17:39:56.527820",
     "status": "completed"
    },
    "tags": []
   },
   "outputs": [
    {
     "data": {
      "text/html": [
       "<div>\n",
       "<style scoped>\n",
       "    .dataframe tbody tr th:only-of-type {\n",
       "        vertical-align: middle;\n",
       "    }\n",
       "\n",
       "    .dataframe tbody tr th {\n",
       "        vertical-align: top;\n",
       "    }\n",
       "\n",
       "    .dataframe thead th {\n",
       "        text-align: right;\n",
       "    }\n",
       "</style>\n",
       "<table border=\"1\" class=\"dataframe\">\n",
       "  <thead>\n",
       "    <tr style=\"text-align: right;\">\n",
       "      <th></th>\n",
       "      <th>Subject Focus</th>\n",
       "      <th>Eyes</th>\n",
       "      <th>Face</th>\n",
       "      <th>Near</th>\n",
       "      <th>Action</th>\n",
       "      <th>Accessory</th>\n",
       "      <th>Group</th>\n",
       "      <th>Collage</th>\n",
       "      <th>Human</th>\n",
       "      <th>Occlusion</th>\n",
       "      <th>Info</th>\n",
       "      <th>Blur</th>\n",
       "    </tr>\n",
       "  </thead>\n",
       "  <tbody>\n",
       "    <tr>\n",
       "      <th>0</th>\n",
       "      <td>0</td>\n",
       "      <td>1</td>\n",
       "      <td>1</td>\n",
       "      <td>1</td>\n",
       "      <td>0</td>\n",
       "      <td>0</td>\n",
       "      <td>1</td>\n",
       "      <td>0</td>\n",
       "      <td>0</td>\n",
       "      <td>0</td>\n",
       "      <td>0</td>\n",
       "      <td>0</td>\n",
       "    </tr>\n",
       "    <tr>\n",
       "      <th>1</th>\n",
       "      <td>0</td>\n",
       "      <td>1</td>\n",
       "      <td>1</td>\n",
       "      <td>0</td>\n",
       "      <td>0</td>\n",
       "      <td>0</td>\n",
       "      <td>0</td>\n",
       "      <td>0</td>\n",
       "      <td>0</td>\n",
       "      <td>0</td>\n",
       "      <td>0</td>\n",
       "      <td>0</td>\n",
       "    </tr>\n",
       "    <tr>\n",
       "      <th>2</th>\n",
       "      <td>0</td>\n",
       "      <td>1</td>\n",
       "      <td>1</td>\n",
       "      <td>1</td>\n",
       "      <td>0</td>\n",
       "      <td>0</td>\n",
       "      <td>0</td>\n",
       "      <td>0</td>\n",
       "      <td>1</td>\n",
       "      <td>1</td>\n",
       "      <td>0</td>\n",
       "      <td>0</td>\n",
       "    </tr>\n",
       "  </tbody>\n",
       "</table>\n",
       "</div>"
      ],
      "text/plain": [
       "   Subject Focus  Eyes  Face  Near  Action  Accessory  Group  Collage  Human  \\\n",
       "0              0     1     1     1       0          0      1        0      0   \n",
       "1              0     1     1     0       0          0      0        0      0   \n",
       "2              0     1     1     1       0          0      0        0      1   \n",
       "\n",
       "   Occlusion  Info  Blur  \n",
       "0          0     0     0  \n",
       "1          0     0     0  \n",
       "2          1     0     0  "
      ]
     },
     "execution_count": 10,
     "metadata": {},
     "output_type": "execute_result"
    }
   ],
   "source": [
    "train_copy = train_data.drop([\"Pawpularity\",\"Id\"], axis = 1)\n",
    "train_copy.head(3)"
   ]
  },
  {
   "cell_type": "code",
   "execution_count": 11,
   "id": "e4803319",
   "metadata": {
    "execution": {
     "iopub.execute_input": "2022-03-31T17:39:56.614137Z",
     "iopub.status.busy": "2022-03-31T17:39:56.613484Z",
     "iopub.status.idle": "2022-03-31T17:39:56.655262Z",
     "shell.execute_reply": "2022-03-31T17:39:56.655708Z",
     "shell.execute_reply.started": "2022-03-31T15:27:20.282645Z"
    },
    "papermill": {
     "duration": 0.065625,
     "end_time": "2022-03-31T17:39:56.655835",
     "exception": false,
     "start_time": "2022-03-31T17:39:56.590210",
     "status": "completed"
    },
    "tags": []
   },
   "outputs": [],
   "source": [
    "# https://dreamquark-ai.github.io/tabnet/generated_docs/README.html#how-to-use-it\n",
    "model = TabNetRegressor(n_d=16,\n",
    "                       n_a=16,\n",
    "                       n_steps=4,\n",
    "                       gamma=1.9,\n",
    "                       n_independent=4,\n",
    "                       n_shared=5,\n",
    "                       seed=seed,\n",
    "                       optimizer_fn = torch.optim.Adam,\n",
    "                       scheduler_params = {\"milestones\": [150,250,300,350,400,450],'gamma':0.2},\n",
    "                       scheduler_fn=torch.optim.lr_scheduler.MultiStepLR)"
   ]
  },
  {
   "cell_type": "code",
   "execution_count": 12,
   "id": "0115c079",
   "metadata": {
    "execution": {
     "iopub.execute_input": "2022-03-31T17:39:56.699379Z",
     "iopub.status.busy": "2022-03-31T17:39:56.698419Z",
     "iopub.status.idle": "2022-03-31T17:39:56.700400Z",
     "shell.execute_reply": "2022-03-31T17:39:56.700764Z",
     "shell.execute_reply.started": "2022-03-31T15:48:21.805580Z"
    },
    "papermill": {
     "duration": 0.026315,
     "end_time": "2022-03-31T17:39:56.700879",
     "exception": false,
     "start_time": "2022-03-31T17:39:56.674564",
     "status": "completed"
    },
    "tags": []
   },
   "outputs": [],
   "source": [
    "target = train_data[\"Pawpularity\"]"
   ]
  },
  {
   "cell_type": "code",
   "execution_count": 13,
   "id": "50e89c8c",
   "metadata": {
    "execution": {
     "iopub.execute_input": "2022-03-31T17:39:56.747288Z",
     "iopub.status.busy": "2022-03-31T17:39:56.746647Z",
     "iopub.status.idle": "2022-03-31T17:39:56.749193Z",
     "shell.execute_reply": "2022-03-31T17:39:56.748744Z",
     "shell.execute_reply.started": "2022-03-31T16:16:13.270685Z"
    },
    "papermill": {
     "duration": 0.029647,
     "end_time": "2022-03-31T17:39:56.749295",
     "exception": false,
     "start_time": "2022-03-31T17:39:56.719648",
     "status": "completed"
    },
    "tags": []
   },
   "outputs": [],
   "source": [
    "# resouces: https://github.com/Bjarten/early-stopping-pytorch/blob/master/pytorchtools.py\n",
    "class EarlyStopping:\n",
    "    \n",
    "    def __init__(self,patience,verbose,path,trace_func):\n",
    "        self.patience = patience\n",
    "        self.verbose = verbose\n",
    "        self.path = path\n",
    "        self.counter = -1\n",
    "        self.best_score = None\n",
    "        self.early_stop = False\n",
    "        self.val_loss_min = np.Inf\n",
    "        self.trace_func = trace_func\n",
    "        \n",
    "    def __call__(self,val_loss,model):\n",
    "        \n",
    "        if self.best_score is None:\n",
    "            self.best_score = val_loss\n",
    "            self.checkpoint(val_loss,model)\n",
    "        \n",
    "        if val_loss < self.best_score:\n",
    "            self.best_score = val_loss\n",
    "            self.checkpoint(val_loss,model)\n",
    "            self.counter = 0\n",
    "        else:\n",
    "            self.counter += 1\n",
    "            if self.counter >= self.patience:\n",
    "                self.early_stop = True\n",
    "                \n",
    "        return self.path\n",
    "    \n",
    "    def checkpoint(self,val_loss,model):\n",
    "        if self.verbose:\n",
    "            self.trace_func(f'Validation loss decreased ({self.val_loss_min:.6f} --> {val_loss:.6f}).  Saving model ...')\n",
    "        torch.save(model.state_dict(),self.path)\n",
    "        self.val_loss_min = val_loss"
   ]
  },
  {
   "cell_type": "code",
   "execution_count": 14,
   "id": "8ae53835",
   "metadata": {
    "execution": {
     "iopub.execute_input": "2022-03-31T17:39:56.790453Z",
     "iopub.status.busy": "2022-03-31T17:39:56.789734Z",
     "iopub.status.idle": "2022-03-31T17:39:56.792026Z",
     "shell.execute_reply": "2022-03-31T17:39:56.791617Z",
     "shell.execute_reply.started": "2022-03-31T17:19:35.607845Z"
    },
    "papermill": {
     "duration": 0.024294,
     "end_time": "2022-03-31T17:39:56.792149",
     "exception": false,
     "start_time": "2022-03-31T17:39:56.767855",
     "status": "completed"
    },
    "tags": []
   },
   "outputs": [],
   "source": [
    "def RMSELoss(yhat,y):\n",
    "    return torch.sqrt(torch.mean((yhat-y)**2))"
   ]
  },
  {
   "cell_type": "code",
   "execution_count": 15,
   "id": "d28af0a3",
   "metadata": {
    "execution": {
     "iopub.execute_input": "2022-03-31T17:39:56.834503Z",
     "iopub.status.busy": "2022-03-31T17:39:56.833589Z",
     "iopub.status.idle": "2022-03-31T17:39:56.835456Z",
     "shell.execute_reply": "2022-03-31T17:39:56.835896Z",
     "shell.execute_reply.started": "2022-03-31T17:28:36.392963Z"
    },
    "papermill": {
     "duration": 0.025206,
     "end_time": "2022-03-31T17:39:56.836012",
     "exception": false,
     "start_time": "2022-03-31T17:39:56.810806",
     "status": "completed"
    },
    "tags": []
   },
   "outputs": [],
   "source": [
    "def rmse_fn(y_pred, y_true):\n",
    "    return np.sqrt(mean_squared_error(y_pred, y_true))"
   ]
  },
  {
   "cell_type": "code",
   "execution_count": 16,
   "id": "29a44daf",
   "metadata": {
    "execution": {
     "iopub.execute_input": "2022-03-31T17:39:56.882274Z",
     "iopub.status.busy": "2022-03-31T17:39:56.881599Z",
     "iopub.status.idle": "2022-03-31T17:39:56.883705Z",
     "shell.execute_reply": "2022-03-31T17:39:56.884143Z",
     "shell.execute_reply.started": "2022-03-31T15:57:51.275710Z"
    },
    "papermill": {
     "duration": 0.029115,
     "end_time": "2022-03-31T17:39:56.884262",
     "exception": false,
     "start_time": "2022-03-31T17:39:56.855147",
     "status": "completed"
    },
    "tags": []
   },
   "outputs": [],
   "source": [
    "X_train, X_val, y_train, y_val = train_test_split(\n",
    "    train_copy,target,\n",
    "    test_size=0.1,\n",
    "    random_state=42\n",
    ")"
   ]
  },
  {
   "cell_type": "code",
   "execution_count": 17,
   "id": "146d8ccb",
   "metadata": {
    "execution": {
     "iopub.execute_input": "2022-03-31T17:39:56.925925Z",
     "iopub.status.busy": "2022-03-31T17:39:56.924888Z",
     "iopub.status.idle": "2022-03-31T17:39:56.928334Z",
     "shell.execute_reply": "2022-03-31T17:39:56.927902Z",
     "shell.execute_reply.started": "2022-03-31T15:59:35.784983Z"
    },
    "papermill": {
     "duration": 0.025465,
     "end_time": "2022-03-31T17:39:56.928438",
     "exception": false,
     "start_time": "2022-03-31T17:39:56.902973",
     "status": "completed"
    },
    "tags": []
   },
   "outputs": [],
   "source": [
    "X_train = X_train.values\n",
    "X_val = X_val.values\n",
    "y_train = y_train.values.reshape(-1, 1)\n",
    "y_val = y_val.values.reshape(-1, 1)"
   ]
  },
  {
   "cell_type": "code",
   "execution_count": 18,
   "id": "033256af",
   "metadata": {
    "execution": {
     "iopub.execute_input": "2022-03-31T17:39:56.971898Z",
     "iopub.status.busy": "2022-03-31T17:39:56.971163Z",
     "iopub.status.idle": "2022-03-31T17:39:56.973244Z",
     "shell.execute_reply": "2022-03-31T17:39:56.973620Z",
     "shell.execute_reply.started": "2022-03-31T17:33:59.936435Z"
    },
    "papermill": {
     "duration": 0.026309,
     "end_time": "2022-03-31T17:39:56.973734",
     "exception": false,
     "start_time": "2022-03-31T17:39:56.947425",
     "status": "completed"
    },
    "tags": []
   },
   "outputs": [],
   "source": [
    "def fit_pred_tabnet(X_train, y_train, X_val, random_state=42, max_epochs_tabnet=MAX_EPOCHS_TABNET):\n",
    "    print(\"Fit tabnet\")\n",
    "    model.fit(X_train=X_train, y_train=y_train,eval_set=[(X_train, y_train), (X_val, y_val)],\n",
    "                max_epochs=max_epochs_tabnet,batch_size=64,patience=100,\n",
    "              eval_name=['train', 'valid'],eval_metric=['mae'],loss_fn=RMSELoss)\n",
    "    print(\"Predict tabnet\")\n",
    "    pred_tabnet = model.predict(X_val)\n",
    "    pred_tabnet = pred_tabnet.reshape(len(pred_tabnet))\n",
    "    return pred_tabnet\n"
   ]
  },
  {
   "cell_type": "code",
   "execution_count": 19,
   "id": "d78717cf",
   "metadata": {
    "execution": {
     "iopub.execute_input": "2022-03-31T17:39:57.016612Z",
     "iopub.status.busy": "2022-03-31T17:39:57.015750Z",
     "iopub.status.idle": "2022-03-31T18:07:30.145020Z",
     "shell.execute_reply": "2022-03-31T18:07:30.144584Z"
    },
    "papermill": {
     "duration": 1653.152864,
     "end_time": "2022-03-31T18:07:30.145179",
     "exception": false,
     "start_time": "2022-03-31T17:39:56.992315",
     "status": "completed"
    },
    "tags": []
   },
   "outputs": [
    {
     "name": "stdout",
     "output_type": "stream",
     "text": [
      "Fit tabnet\n",
      "epoch 0  | loss: 24.45757| train_mae: 14.99855| valid_mae: 15.40127|  0:00:10s\n",
      "epoch 1  | loss: 20.6443 | train_mae: 16.25262| valid_mae: 16.53005|  0:00:18s\n",
      "epoch 2  | loss: 20.61171| train_mae: 15.55471| valid_mae: 15.80931|  0:00:27s\n",
      "epoch 3  | loss: 20.62026| train_mae: 15.65895| valid_mae: 15.90717|  0:00:36s\n",
      "epoch 4  | loss: 20.5554 | train_mae: 14.9964 | valid_mae: 15.34733|  0:00:45s\n",
      "epoch 5  | loss: 20.55784| train_mae: 15.12878| valid_mae: 15.45813|  0:00:54s\n",
      "epoch 6  | loss: 20.51735| train_mae: 15.37586| valid_mae: 15.67332|  0:01:02s\n",
      "epoch 7  | loss: 20.54107| train_mae: 15.05022| valid_mae: 15.33753|  0:01:11s\n",
      "epoch 8  | loss: 20.46918| train_mae: 15.31591| valid_mae: 15.61565|  0:01:20s\n",
      "epoch 9  | loss: 20.51496| train_mae: 15.63779| valid_mae: 15.92228|  0:01:29s\n",
      "epoch 10 | loss: 20.53429| train_mae: 15.68811| valid_mae: 15.95786|  0:01:38s\n",
      "epoch 11 | loss: 20.48771| train_mae: 15.17614| valid_mae: 15.50632|  0:01:47s\n",
      "epoch 12 | loss: 20.4771 | train_mae: 15.14389| valid_mae: 15.44122|  0:01:55s\n",
      "epoch 13 | loss: 20.50124| train_mae: 15.53362| valid_mae: 15.82645|  0:02:05s\n",
      "epoch 14 | loss: 20.52124| train_mae: 15.76887| valid_mae: 16.06152|  0:02:14s\n",
      "epoch 15 | loss: 20.50927| train_mae: 16.12515| valid_mae: 16.40703|  0:02:23s\n",
      "epoch 16 | loss: 20.52537| train_mae: 15.17513| valid_mae: 15.53821|  0:02:31s\n",
      "epoch 17 | loss: 20.51053| train_mae: 15.20945| valid_mae: 15.56932|  0:02:40s\n",
      "epoch 18 | loss: 20.52161| train_mae: 15.66862| valid_mae: 15.96384|  0:02:49s\n",
      "epoch 19 | loss: 20.5234 | train_mae: 15.2098 | valid_mae: 15.55422|  0:02:58s\n",
      "epoch 20 | loss: 20.52059| train_mae: 15.39384| valid_mae: 15.71562|  0:03:06s\n",
      "epoch 21 | loss: 20.55292| train_mae: 15.15095| valid_mae: 15.4715 |  0:03:15s\n",
      "epoch 22 | loss: 20.53924| train_mae: 15.51099| valid_mae: 15.83179|  0:03:24s\n",
      "epoch 23 | loss: 20.55388| train_mae: 15.45934| valid_mae: 15.76223|  0:03:33s\n",
      "epoch 24 | loss: 20.51984| train_mae: 15.12706| valid_mae: 15.46504|  0:03:42s\n",
      "epoch 25 | loss: 20.47659| train_mae: 15.06152| valid_mae: 15.40587|  0:03:50s\n",
      "epoch 26 | loss: 20.50238| train_mae: 15.00793| valid_mae: 15.37648|  0:04:00s\n",
      "epoch 27 | loss: 20.51925| train_mae: 16.37328| valid_mae: 16.64957|  0:04:08s\n",
      "epoch 28 | loss: 20.52764| train_mae: 15.12942| valid_mae: 15.46794|  0:04:17s\n",
      "epoch 29 | loss: 20.4587 | train_mae: 15.5348 | valid_mae: 15.8436 |  0:04:26s\n",
      "epoch 30 | loss: 20.54903| train_mae: 15.409  | valid_mae: 15.74106|  0:04:35s\n",
      "epoch 31 | loss: 20.54449| train_mae: 16.10095| valid_mae: 16.38714|  0:04:44s\n",
      "epoch 32 | loss: 20.44874| train_mae: 15.10929| valid_mae: 15.45703|  0:04:52s\n",
      "epoch 33 | loss: 20.47923| train_mae: 15.60011| valid_mae: 15.92947|  0:05:01s\n",
      "epoch 34 | loss: 20.51848| train_mae: 15.60866| valid_mae: 15.9354 |  0:05:10s\n",
      "epoch 35 | loss: 20.51171| train_mae: 15.27938| valid_mae: 15.60032|  0:05:19s\n",
      "epoch 36 | loss: 20.4663 | train_mae: 15.53522| valid_mae: 15.84255|  0:05:28s\n",
      "epoch 37 | loss: 20.50935| train_mae: 15.01901| valid_mae: 15.41031|  0:05:37s\n",
      "epoch 38 | loss: 20.52915| train_mae: 15.99672| valid_mae: 16.31747|  0:05:45s\n",
      "epoch 39 | loss: 20.546  | train_mae: 15.21932| valid_mae: 15.53819|  0:05:54s\n",
      "epoch 40 | loss: 20.51376| train_mae: 15.44413| valid_mae: 15.77878|  0:06:03s\n",
      "epoch 41 | loss: 20.47678| train_mae: 15.60576| valid_mae: 15.93661|  0:06:12s\n",
      "epoch 42 | loss: 20.50221| train_mae: 15.17127| valid_mae: 15.52771|  0:06:21s\n",
      "epoch 43 | loss: 20.51848| train_mae: 15.5795 | valid_mae: 15.8979 |  0:06:29s\n",
      "epoch 44 | loss: 20.48628| train_mae: 16.40776| valid_mae: 16.67818|  0:06:38s\n",
      "epoch 45 | loss: 20.53044| train_mae: 15.44629| valid_mae: 15.77696|  0:06:47s\n",
      "epoch 46 | loss: 20.5107 | train_mae: 15.00341| valid_mae: 15.37321|  0:06:56s\n",
      "epoch 47 | loss: 20.4992 | train_mae: 15.08017| valid_mae: 15.46177|  0:07:04s\n",
      "epoch 48 | loss: 20.47864| train_mae: 15.11082| valid_mae: 15.4291 |  0:07:14s\n",
      "epoch 49 | loss: 20.45826| train_mae: 15.21275| valid_mae: 15.5537 |  0:07:22s\n",
      "epoch 50 | loss: 20.52718| train_mae: 15.21079| valid_mae: 15.5357 |  0:07:31s\n",
      "epoch 51 | loss: 20.49546| train_mae: 15.11896| valid_mae: 15.44468|  0:07:40s\n",
      "epoch 52 | loss: 20.50788| train_mae: 15.3964 | valid_mae: 15.66861|  0:07:49s\n",
      "epoch 53 | loss: 20.47891| train_mae: 15.61722| valid_mae: 15.87526|  0:07:58s\n",
      "epoch 54 | loss: 20.49159| train_mae: 16.09763| valid_mae: 16.37802|  0:08:06s\n",
      "epoch 55 | loss: 20.482  | train_mae: 15.11788| valid_mae: 15.43871|  0:08:16s\n",
      "epoch 56 | loss: 20.50886| train_mae: 15.64256| valid_mae: 15.93829|  0:08:24s\n",
      "epoch 57 | loss: 20.45126| train_mae: 15.07106| valid_mae: 15.47636|  0:08:33s\n",
      "epoch 58 | loss: 20.48103| train_mae: 16.16341| valid_mae: 16.44086|  0:08:42s\n",
      "epoch 59 | loss: 20.46855| train_mae: 15.53028| valid_mae: 15.81392|  0:08:51s\n",
      "epoch 60 | loss: 20.46605| train_mae: 15.51877| valid_mae: 15.80761|  0:09:00s\n",
      "epoch 61 | loss: 20.52513| train_mae: 15.06589| valid_mae: 15.42717|  0:09:08s\n",
      "epoch 62 | loss: 20.47031| train_mae: 15.49535| valid_mae: 15.7745 |  0:09:17s\n",
      "epoch 63 | loss: 20.46837| train_mae: 15.60026| valid_mae: 15.88971|  0:09:26s\n",
      "epoch 64 | loss: 20.47289| train_mae: 15.49129| valid_mae: 15.78904|  0:09:35s\n",
      "epoch 65 | loss: 20.45358| train_mae: 15.27319| valid_mae: 15.57012|  0:09:43s\n",
      "epoch 66 | loss: 20.45154| train_mae: 15.73949| valid_mae: 16.01874|  0:09:52s\n",
      "epoch 67 | loss: 20.48116| train_mae: 15.45105| valid_mae: 15.75138|  0:10:01s\n",
      "epoch 68 | loss: 20.46357| train_mae: 15.53667| valid_mae: 15.83151|  0:10:10s\n",
      "epoch 69 | loss: 20.52486| train_mae: 15.30709| valid_mae: 15.65745|  0:10:18s\n",
      "epoch 70 | loss: 20.46865| train_mae: 15.45986| valid_mae: 15.79033|  0:10:28s\n",
      "epoch 71 | loss: 20.51707| train_mae: 15.09493| valid_mae: 15.47133|  0:10:36s\n",
      "epoch 72 | loss: 20.48009| train_mae: 15.20055| valid_mae: 15.52342|  0:10:45s\n",
      "epoch 73 | loss: 20.45928| train_mae: 15.51484| valid_mae: 15.81973|  0:10:54s\n",
      "epoch 74 | loss: 20.49062| train_mae: 15.39783| valid_mae: 15.69144|  0:11:03s\n",
      "epoch 75 | loss: 20.5058 | train_mae: 15.49417| valid_mae: 15.90166|  0:11:12s\n",
      "epoch 76 | loss: 20.50024| train_mae: 15.10554| valid_mae: 15.46034|  0:11:20s\n",
      "epoch 77 | loss: 20.51337| train_mae: 15.50835| valid_mae: 15.81245|  0:11:30s\n",
      "epoch 78 | loss: 20.48913| train_mae: 15.03295| valid_mae: 15.40094|  0:11:38s\n",
      "epoch 79 | loss: 20.48855| train_mae: 15.50095| valid_mae: 15.81762|  0:11:47s\n",
      "epoch 80 | loss: 20.49197| train_mae: 15.15576| valid_mae: 15.49522|  0:11:56s\n",
      "epoch 81 | loss: 20.50156| train_mae: 15.99628| valid_mae: 16.30511|  0:12:05s\n",
      "epoch 82 | loss: 20.44963| train_mae: 15.76483| valid_mae: 16.1087 |  0:12:13s\n",
      "epoch 83 | loss: 20.45388| train_mae: 15.79632| valid_mae: 16.19041|  0:12:22s\n",
      "epoch 84 | loss: 20.48128| train_mae: 14.91652| valid_mae: 15.32031|  0:12:31s\n",
      "epoch 85 | loss: 20.52217| train_mae: 15.42866| valid_mae: 15.79359|  0:12:41s\n",
      "epoch 86 | loss: 20.48778| train_mae: 15.35265| valid_mae: 15.73335|  0:12:50s\n",
      "epoch 87 | loss: 20.52128| train_mae: 15.0819 | valid_mae: 15.49536|  0:12:59s\n",
      "epoch 88 | loss: 20.49678| train_mae: 15.45365| valid_mae: 15.83509|  0:13:08s\n",
      "epoch 89 | loss: 20.46523| train_mae: 15.17946| valid_mae: 15.59084|  0:13:17s\n",
      "epoch 90 | loss: 20.4946 | train_mae: 15.30312| valid_mae: 15.71637|  0:13:26s\n",
      "epoch 91 | loss: 20.51225| train_mae: 15.60036| valid_mae: 16.01957|  0:13:35s\n",
      "epoch 92 | loss: 20.45397| train_mae: 15.40172| valid_mae: 15.83338|  0:13:44s\n",
      "epoch 93 | loss: 20.48682| train_mae: 15.51085| valid_mae: 15.9065 |  0:13:54s\n",
      "epoch 94 | loss: 20.48972| train_mae: 15.59754| valid_mae: 16.04769|  0:14:03s\n",
      "epoch 95 | loss: 20.47857| train_mae: 15.48903| valid_mae: 15.91812|  0:14:12s\n",
      "epoch 96 | loss: 20.46839| train_mae: 15.51101| valid_mae: 15.9586 |  0:14:21s\n",
      "epoch 97 | loss: 20.54556| train_mae: 15.99874| valid_mae: 16.40181|  0:14:30s\n",
      "epoch 98 | loss: 20.46289| train_mae: 15.41227| valid_mae: 15.86213|  0:14:39s\n",
      "epoch 99 | loss: 20.49376| train_mae: 15.31589| valid_mae: 15.73075|  0:14:48s\n",
      "epoch 100| loss: 20.48383| train_mae: 15.14429| valid_mae: 15.56095|  0:14:56s\n",
      "epoch 101| loss: 20.49023| train_mae: 15.71583| valid_mae: 16.14455|  0:15:05s\n",
      "epoch 102| loss: 20.4834 | train_mae: 15.78539| valid_mae: 16.19367|  0:15:14s\n",
      "epoch 103| loss: 20.50937| train_mae: 15.94324| valid_mae: 16.33066|  0:15:23s\n",
      "epoch 104| loss: 20.44974| train_mae: 15.91699| valid_mae: 16.30997|  0:15:32s\n",
      "epoch 105| loss: 20.50498| train_mae: 15.56807| valid_mae: 15.93135|  0:15:40s\n",
      "epoch 106| loss: 20.48061| train_mae: 15.77593| valid_mae: 16.16823|  0:15:49s\n",
      "epoch 107| loss: 20.50151| train_mae: 15.12208| valid_mae: 15.56612|  0:15:58s\n",
      "epoch 108| loss: 20.55881| train_mae: 15.52129| valid_mae: 15.95926|  0:16:07s\n",
      "epoch 109| loss: 20.50837| train_mae: 15.28323| valid_mae: 15.75175|  0:16:15s\n",
      "epoch 110| loss: 20.46716| train_mae: 16.37312| valid_mae: 16.78639|  0:16:24s\n",
      "epoch 111| loss: 20.47454| train_mae: 15.39506| valid_mae: 15.82995|  0:16:33s\n",
      "epoch 112| loss: 20.47946| train_mae: 15.6848 | valid_mae: 16.11987|  0:16:42s\n",
      "epoch 113| loss: 20.48025| train_mae: 15.69496| valid_mae: 16.10208|  0:16:51s\n",
      "epoch 114| loss: 20.49181| train_mae: 15.53399| valid_mae: 15.96644|  0:17:00s\n",
      "epoch 115| loss: 20.49492| train_mae: 15.61724| valid_mae: 15.93831|  0:17:08s\n",
      "epoch 116| loss: 20.49797| train_mae: 15.32737| valid_mae: 15.6863 |  0:17:17s\n",
      "epoch 117| loss: 20.46015| train_mae: 15.53552| valid_mae: 15.94636|  0:17:26s\n",
      "epoch 118| loss: 20.51046| train_mae: 15.48738| valid_mae: 15.8345 |  0:17:35s\n",
      "epoch 119| loss: 20.46956| train_mae: 15.3689 | valid_mae: 15.85109|  0:17:43s\n",
      "epoch 120| loss: 20.48477| train_mae: 15.83305| valid_mae: 16.27986|  0:17:52s\n",
      "epoch 121| loss: 20.49691| train_mae: 15.43855| valid_mae: 15.87465|  0:18:01s\n",
      "epoch 122| loss: 20.49953| train_mae: 15.40505| valid_mae: 15.8583 |  0:18:10s\n",
      "epoch 123| loss: 20.48296| train_mae: 15.57937| valid_mae: 15.98901|  0:18:18s\n",
      "epoch 124| loss: 20.4936 | train_mae: 15.68339| valid_mae: 16.09602|  0:18:27s\n",
      "epoch 125| loss: 20.45474| train_mae: 16.08038| valid_mae: 16.4325 |  0:18:35s\n",
      "epoch 126| loss: 20.47883| train_mae: 15.3175 | valid_mae: 15.72742|  0:18:45s\n",
      "epoch 127| loss: 20.45021| train_mae: 15.83697| valid_mae: 16.07076|  0:18:53s\n",
      "epoch 128| loss: 20.49375| train_mae: 15.22394| valid_mae: 15.5384 |  0:19:02s\n",
      "epoch 129| loss: 20.48639| train_mae: 15.34774| valid_mae: 15.69882|  0:19:11s\n",
      "epoch 130| loss: 20.46605| train_mae: 15.36495| valid_mae: 15.68909|  0:19:20s\n",
      "epoch 131| loss: 20.46309| train_mae: 15.73397| valid_mae: 16.10641|  0:19:29s\n",
      "epoch 132| loss: 20.48219| train_mae: 15.23994| valid_mae: 15.57423|  0:19:37s\n",
      "epoch 133| loss: 20.47862| train_mae: 15.37725| valid_mae: 15.71142|  0:19:46s\n",
      "epoch 134| loss: 20.46196| train_mae: 16.06098| valid_mae: 16.44247|  0:19:55s\n",
      "epoch 135| loss: 20.45252| train_mae: 15.58756| valid_mae: 15.99456|  0:20:03s\n",
      "epoch 136| loss: 20.4596 | train_mae: 15.51394| valid_mae: 15.92249|  0:20:12s\n",
      "epoch 137| loss: 20.46583| train_mae: 15.48478| valid_mae: 15.93802|  0:20:21s\n",
      "epoch 138| loss: 20.47259| train_mae: 15.07683| valid_mae: 15.42417|  0:20:30s\n",
      "epoch 139| loss: 20.53811| train_mae: 15.39079| valid_mae: 15.81712|  0:20:39s\n",
      "epoch 140| loss: 20.46456| train_mae: 14.98627| valid_mae: 15.36614|  0:20:48s\n",
      "epoch 141| loss: 20.4794 | train_mae: 15.22094| valid_mae: 15.51656|  0:20:57s\n",
      "epoch 142| loss: 20.4921 | train_mae: 15.04862| valid_mae: 15.36263|  0:21:06s\n",
      "epoch 143| loss: 20.50463| train_mae: 15.07369| valid_mae: 15.40282|  0:21:15s\n",
      "epoch 144| loss: 20.46659| train_mae: 15.46903| valid_mae: 15.76551|  0:21:24s\n",
      "epoch 145| loss: 20.47629| train_mae: 15.19335| valid_mae: 15.52917|  0:21:32s\n",
      "epoch 146| loss: 20.44941| train_mae: 15.43956| valid_mae: 15.73247|  0:21:41s\n",
      "epoch 147| loss: 20.43313| train_mae: 15.24218| valid_mae: 15.55625|  0:21:51s\n",
      "epoch 148| loss: 20.41972| train_mae: 15.31485| valid_mae: 15.62955|  0:22:01s\n",
      "epoch 149| loss: 20.48461| train_mae: 15.51289| valid_mae: 15.83804|  0:22:10s\n",
      "epoch 150| loss: 20.41583| train_mae: 15.6895 | valid_mae: 16.00575|  0:22:19s\n",
      "epoch 151| loss: 20.41211| train_mae: 15.58676| valid_mae: 15.91982|  0:22:28s\n",
      "epoch 152| loss: 20.43869| train_mae: 15.6446 | valid_mae: 15.95902|  0:22:37s\n",
      "epoch 153| loss: 20.43358| train_mae: 15.62293| valid_mae: 15.93335|  0:22:46s\n",
      "epoch 154| loss: 20.44687| train_mae: 15.57782| valid_mae: 15.91981|  0:22:55s\n",
      "epoch 155| loss: 20.42535| train_mae: 15.33329| valid_mae: 15.64212|  0:23:05s\n",
      "epoch 156| loss: 20.44011| train_mae: 15.41688| valid_mae: 15.75935|  0:23:13s\n",
      "epoch 157| loss: 20.44563| train_mae: 15.54597| valid_mae: 15.89012|  0:23:22s\n",
      "epoch 158| loss: 20.46081| train_mae: 15.56254| valid_mae: 15.9261 |  0:23:31s\n",
      "epoch 159| loss: 20.41593| train_mae: 15.69424| valid_mae: 15.98097|  0:23:40s\n",
      "epoch 160| loss: 20.39888| train_mae: 15.45919| valid_mae: 15.79367|  0:23:49s\n",
      "epoch 161| loss: 20.44657| train_mae: 15.5413 | valid_mae: 15.84612|  0:23:58s\n",
      "epoch 162| loss: 20.42379| train_mae: 15.66582| valid_mae: 15.9738 |  0:24:08s\n",
      "epoch 163| loss: 20.43772| train_mae: 15.45157| valid_mae: 15.76636|  0:24:17s\n",
      "epoch 164| loss: 20.42455| train_mae: 15.30863| valid_mae: 15.65759|  0:24:26s\n",
      "epoch 165| loss: 20.43419| train_mae: 15.45587| valid_mae: 15.7876 |  0:24:35s\n",
      "epoch 166| loss: 20.45856| train_mae: 15.44404| valid_mae: 15.75347|  0:24:45s\n",
      "epoch 167| loss: 20.46148| train_mae: 15.37578| valid_mae: 15.68453|  0:24:54s\n",
      "epoch 168| loss: 20.44088| train_mae: 15.33676| valid_mae: 15.64869|  0:25:03s\n",
      "epoch 169| loss: 20.42452| train_mae: 15.34785| valid_mae: 15.65512|  0:25:12s\n",
      "epoch 170| loss: 20.48524| train_mae: 15.74905| valid_mae: 16.03393|  0:25:21s\n",
      "epoch 171| loss: 20.45478| train_mae: 15.34957| valid_mae: 15.6539 |  0:25:30s\n",
      "epoch 172| loss: 20.45749| train_mae: 15.40175| valid_mae: 15.70415|  0:25:39s\n",
      "epoch 173| loss: 20.43913| train_mae: 15.29228| valid_mae: 15.59106|  0:25:48s\n",
      "epoch 174| loss: 20.4289 | train_mae: 15.4344 | valid_mae: 15.7156 |  0:25:57s\n",
      "epoch 175| loss: 20.46574| train_mae: 15.41078| valid_mae: 15.70016|  0:26:06s\n",
      "epoch 176| loss: 20.4652 | train_mae: 15.5397 | valid_mae: 15.8412 |  0:26:15s\n",
      "epoch 177| loss: 20.44581| train_mae: 15.48634| valid_mae: 15.77355|  0:26:24s\n",
      "epoch 178| loss: 20.44628| train_mae: 15.45859| valid_mae: 15.73471|  0:26:33s\n",
      "epoch 179| loss: 20.42654| train_mae: 15.22323| valid_mae: 15.53963|  0:26:42s\n",
      "epoch 180| loss: 20.44516| train_mae: 15.55935| valid_mae: 15.83621|  0:26:51s\n",
      "epoch 181| loss: 20.47308| train_mae: 15.53325| valid_mae: 15.80783|  0:27:01s\n",
      "epoch 182| loss: 20.41936| train_mae: 15.5023 | valid_mae: 15.79531|  0:27:09s\n",
      "epoch 183| loss: 20.42133| train_mae: 15.33246| valid_mae: 15.64135|  0:27:18s\n",
      "epoch 184| loss: 20.44227| train_mae: 15.44654| valid_mae: 15.74448|  0:27:28s\n",
      "\n",
      "Early stopping occurred at epoch 184 with best_epoch = 84 and best_valid_mae = 15.32031\n",
      "Predict tabnet\n"
     ]
    }
   ],
   "source": [
    "pred_tabnet = fit_pred_tabnet(X_train, y_train, X_val)"
   ]
  },
  {
   "cell_type": "code",
   "execution_count": 20,
   "id": "03edc7e8",
   "metadata": {
    "execution": {
     "iopub.execute_input": "2022-03-31T18:07:30.289053Z",
     "iopub.status.busy": "2022-03-31T18:07:30.288247Z",
     "iopub.status.idle": "2022-03-31T18:07:30.514891Z",
     "shell.execute_reply": "2022-03-31T18:07:30.514459Z",
     "shell.execute_reply.started": "2022-03-31T17:32:33.012044Z"
    },
    "papermill": {
     "duration": 0.301764,
     "end_time": "2022-03-31T18:07:30.515021",
     "exception": false,
     "start_time": "2022-03-31T18:07:30.213257",
     "status": "completed"
    },
    "tags": []
   },
   "outputs": [
    {
     "data": {
      "text/plain": [
       "[<matplotlib.lines.Line2D at 0x7f8c00100b90>]"
      ]
     },
     "execution_count": 20,
     "metadata": {},
     "output_type": "execute_result"
    },
    {
     "data": {
      "image/png": "[encoded data removed]",
      "text/plain": [
       "<Figure size 432x288 with 1 Axes>"
      ]
     },
     "metadata": {
      "needs_background": "light"
     },
     "output_type": "display_data"
    }
   ],
   "source": [
    "plt.plot(model.history['loss'])"
   ]
  },
  {
   "cell_type": "code",
   "execution_count": 21,
   "id": "dd7984c7",
   "metadata": {
    "execution": {
     "iopub.execute_input": "2022-03-31T18:07:30.667376Z",
     "iopub.status.busy": "2022-03-31T18:07:30.666715Z",
     "iopub.status.idle": "2022-03-31T18:07:30.669451Z",
     "shell.execute_reply": "2022-03-31T18:07:30.669847Z",
     "shell.execute_reply.started": "2022-03-31T17:32:36.175824Z"
    },
    "papermill": {
     "duration": 0.078655,
     "end_time": "2022-03-31T18:07:30.670008",
     "exception": false,
     "start_time": "2022-03-31T18:07:30.591353",
     "status": "completed"
    },
    "tags": []
   },
   "outputs": [
    {
     "data": {
      "text/plain": [
       "21.07091557285329"
      ]
     },
     "execution_count": 21,
     "metadata": {},
     "output_type": "execute_result"
    }
   ],
   "source": [
    "rmse_tabnet = rmse_fn(pred_tabnet, y_val)\n",
    "rmse_tabnet"
   ]
  },
  {
   "cell_type": "code",
   "execution_count": null,
   "id": "04522b41",
   "metadata": {
    "papermill": {
     "duration": 0.068959,
     "end_time": "2022-03-31T18:07:30.806917",
     "exception": false,
     "start_time": "2022-03-31T18:07:30.737958",
     "status": "completed"
    },
    "tags": []
   },
   "outputs": [],
   "source": []
  }
 ],
 "metadata": {
  "kernelspec": {
   "display_name": "Python 3",
   "language": "python",
   "name": "python3"
  },
  "language_info": {
   "codemirror_mode": {
    "name": "ipython",
    "version": 3
   },
   "file_extension": ".py",
   "mimetype": "text/x-python",
   "name": "python",
   "nbconvert_exporter": "python",
   "pygments_lexer": "ipython3",
   "version": "3.7.10"
  },
  "papermill": {
   "default_parameters": {},
   "duration": 1666.607129,
   "end_time": "2022-03-31T18:07:31.993194",
   "environment_variables": {},
   "exception": null,
   "input_path": "__notebook__.ipynb",
   "output_path": "__notebook__.ipynb",
   "parameters": {},
   "start_time": "2022-03-31T17:39:45.386065",
   "version": "2.3.3"
  }
 },
 "nbformat": 4,
 "nbformat_minor": 5
}
