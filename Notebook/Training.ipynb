{
 "cells": [
  {
   "cell_type": "code",
   "execution_count": 1,
   "id": "4b117cff",
   "metadata": {
    "_cell_guid": "b1076dfc-b9ad-4769-8c92-a6c4dae69d19",
    "_uuid": "8f2839f25d086af736a60e9eeb907d3b93b6e0e5",
    "execution": {
     "iopub.execute_input": "2021-12-31T09:29:51.674975Z",
     "iopub.status.busy": "2021-12-31T09:29:51.673472Z",
     "iopub.status.idle": "2021-12-31T09:29:56.974877Z",
     "shell.execute_reply": "2021-12-31T09:29:56.974274Z",
     "shell.execute_reply.started": "2021-12-31T07:01:00.779648Z"
    },
    "papermill": {
     "duration": 5.322767,
     "end_time": "2021-12-31T09:29:56.975041",
     "exception": false,
     "start_time": "2021-12-31T09:29:51.652274",
     "status": "completed"
    },
    "tags": []
   },
   "outputs": [],
   "source": [
    "import numpy as np\n",
    "import pandas as pd\n",
    "import tensorflow as tf\n",
    "import sklearn\n",
    "import matplotlib.pyplot as plt\n",
    "from keras.models import Sequential\n",
    "from keras.layers import Dense, Conv2D, MaxPool2D , Flatten\n",
    "from sklearn.model_selection import KFold\n",
    "from tensorflow import keras"
   ]
  },
  {
   "cell_type": "code",
   "execution_count": 2,
   "id": "73ddab53",
   "metadata": {
    "execution": {
     "iopub.execute_input": "2021-12-31T09:29:57.010562Z",
     "iopub.status.busy": "2021-12-31T09:29:57.009988Z",
     "iopub.status.idle": "2021-12-31T09:29:57.067946Z",
     "shell.execute_reply": "2021-12-31T09:29:57.067475Z",
     "shell.execute_reply.started": "2021-12-31T07:01:07.299480Z"
    },
    "papermill": {
     "duration": 0.0778,
     "end_time": "2021-12-31T09:29:57.068079",
     "exception": false,
     "start_time": "2021-12-31T09:29:56.990279",
     "status": "completed"
    },
    "tags": []
   },
   "outputs": [],
   "source": [
    "train = pd.read_csv(\"../input/petfinder-pawpularity-score/train.csv\")\n",
    "test = pd.read_csv(\"../input/petfinder-pawpularity-score/test.csv\")\n",
    "sample_submission = pd.read_csv(\"../input/petfinder-pawpularity-score/sample_submission.csv\")\n",
    "\n",
    "train[\"file_path\"] = train[\"Id\"].apply(lambda x: \"../input/petfinder-pawpularity-score/train/\" + x + \".jpg\")\n",
    "test[\"file_path\"] = test[\"Id\"].apply(lambda x: \"../input/petfinder-pawpularity-score/test/\" + x + \".jpg\")"
   ]
  },
  {
   "cell_type": "code",
   "execution_count": 3,
   "id": "d744908f",
   "metadata": {
    "execution": {
     "iopub.execute_input": "2021-12-31T09:29:57.101484Z",
     "iopub.status.busy": "2021-12-31T09:29:57.100725Z",
     "iopub.status.idle": "2021-12-31T09:29:57.103156Z",
     "shell.execute_reply": "2021-12-31T09:29:57.102715Z",
     "shell.execute_reply.started": "2021-12-31T07:01:07.371921Z"
    },
    "papermill": {
     "duration": 0.020789,
     "end_time": "2021-12-31T09:29:57.103260",
     "exception": false,
     "start_time": "2021-12-31T09:29:57.082471",
     "status": "completed"
    },
    "tags": []
   },
   "outputs": [],
   "source": [
    "tabular_columns = ['Subject Focus', 'Eyes', 'Face', 'Near', 'Action', 'Accessory', 'Group', 'Collage', 'Human', 'Occlusion', 'Info', 'Blur']\n",
    "image_size = 224\n",
    "batch_size = 64\n",
    "epochs = 20\n",
    "train_on_fold = None # Which Fold to train, train on all folds if None\n",
    "AUTO = tf.data.experimental.AUTOTUNE"
   ]
  },
  {
   "cell_type": "code",
   "execution_count": 4,
   "id": "c3d0c3ad",
   "metadata": {
    "execution": {
     "iopub.execute_input": "2021-12-31T09:29:57.145191Z",
     "iopub.status.busy": "2021-12-31T09:29:57.144494Z",
     "iopub.status.idle": "2021-12-31T09:29:57.146559Z",
     "shell.execute_reply": "2021-12-31T09:29:57.147100Z",
     "shell.execute_reply.started": "2021-12-31T07:01:07.382478Z"
    },
    "papermill": {
     "duration": 0.029896,
     "end_time": "2021-12-31T09:29:57.147226",
     "exception": false,
     "start_time": "2021-12-31T09:29:57.117330",
     "status": "completed"
    },
    "tags": []
   },
   "outputs": [],
   "source": [
    "def random_erasing(img, sl=0.1, sh=0.2, rl=0.4, p=0.3):\n",
    "    h = tf.shape(img)[0]\n",
    "    w = tf.shape(img)[1]\n",
    "    c = tf.shape(img)[2]\n",
    "    origin_area = tf.cast(h*w, tf.float32)\n",
    "\n",
    "    e_size_l = tf.cast(tf.round(tf.sqrt(origin_area * sl * rl)), tf.int32)\n",
    "    e_size_h = tf.cast(tf.round(tf.sqrt(origin_area * sh / rl)), tf.int32)\n",
    "\n",
    "    e_height_h = tf.minimum(e_size_h, h)\n",
    "    e_width_h = tf.minimum(e_size_h, w)\n",
    "\n",
    "    erase_height = tf.random.uniform(shape=[], minval=e_size_l, maxval=e_height_h, dtype=tf.int32)\n",
    "    erase_width = tf.random.uniform(shape=[], minval=e_size_l, maxval=e_width_h, dtype=tf.int32)\n",
    "\n",
    "    erase_area = tf.zeros(shape=[erase_height, erase_width, c])\n",
    "    erase_area = tf.cast(erase_area, tf.uint8)\n",
    "\n",
    "    pad_h = h - erase_height\n",
    "    pad_top = tf.random.uniform(shape=[], minval=0, maxval=pad_h, dtype=tf.int32)\n",
    "    pad_bottom = pad_h - pad_top\n",
    "\n",
    "    pad_w = w - erase_width\n",
    "    pad_left = tf.random.uniform(shape=[], minval=0, maxval=pad_w, dtype=tf.int32)\n",
    "    pad_right = pad_w - pad_left\n",
    "\n",
    "    erase_mask = tf.pad([erase_area], [[0,0],[pad_top, pad_bottom], [pad_left, pad_right], [0,0]], constant_values=1)\n",
    "    erase_mask = tf.squeeze(erase_mask, axis=0)\n",
    "    erased_img = tf.multiply(tf.cast(img,tf.float32), tf.cast(erase_mask, tf.float32))\n",
    "\n",
    "    return tf.cond(tf.random.uniform([], 0, 1) > p, lambda: tf.cast(img, img.dtype), lambda:  tf.cast(erased_img, img.dtype))"
   ]
  },
  {
   "cell_type": "code",
   "execution_count": 5,
   "id": "a5ec9e14",
   "metadata": {
    "execution": {
     "iopub.execute_input": "2021-12-31T09:29:57.178340Z",
     "iopub.status.busy": "2021-12-31T09:29:57.177515Z",
     "iopub.status.idle": "2021-12-31T09:29:57.181912Z",
     "shell.execute_reply": "2021-12-31T09:29:57.181468Z",
     "shell.execute_reply.started": "2021-12-31T07:01:07.405285Z"
    },
    "papermill": {
     "duration": 0.020596,
     "end_time": "2021-12-31T09:29:57.182023",
     "exception": false,
     "start_time": "2021-12-31T09:29:57.161427",
     "status": "completed"
    },
    "tags": []
   },
   "outputs": [],
   "source": [
    "def data_augment(image):\n",
    "    image = tf.image.random_flip_left_right(image)\n",
    "    image = random_erasing(image)\n",
    "    return image"
   ]
  },
  {
   "cell_type": "code",
   "execution_count": 6,
   "id": "175a113a",
   "metadata": {
    "execution": {
     "iopub.execute_input": "2021-12-31T09:29:57.218006Z",
     "iopub.status.busy": "2021-12-31T09:29:57.217171Z",
     "iopub.status.idle": "2021-12-31T09:29:57.219899Z",
     "shell.execute_reply": "2021-12-31T09:29:57.219405Z",
     "shell.execute_reply.started": "2021-12-31T07:01:07.417639Z"
    },
    "papermill": {
     "duration": 0.02404,
     "end_time": "2021-12-31T09:29:57.220015",
     "exception": false,
     "start_time": "2021-12-31T09:29:57.195975",
     "status": "completed"
    },
    "tags": []
   },
   "outputs": [],
   "source": [
    "def preprocess_training(image_url, tabular):\n",
    "    image_string = tf.io.read_file(image_url)\n",
    "    image = tf.image.decode_jpeg(image_string, channels=3)\n",
    "    image = data_augment(image)\n",
    "    image = tf.image.central_crop(image, 1.0)\n",
    "    image = tf.image.resize(image, (image_size, image_size))\n",
    "    return (image, tabular[1:]), tf.cast(tabular[0], tf.float32)\n",
    "\n",
    "def preprocess_validation(image_url, tabular):\n",
    "    image_string = tf.io.read_file(image_url)\n",
    "    image = tf.image.decode_jpeg(image_string, channels=3)\n",
    "    image = tf.image.central_crop(image, 1.0)\n",
    "    image = tf.image.resize(image, (image_size, image_size))\n",
    "    return (image, tabular[1:]), tf.cast(tabular[0], tf.float32)"
   ]
  },
  {
   "cell_type": "code",
   "execution_count": 7,
   "id": "3aec7d29",
   "metadata": {
    "execution": {
     "iopub.execute_input": "2021-12-31T09:29:57.251256Z",
     "iopub.status.busy": "2021-12-31T09:29:57.250437Z",
     "iopub.status.idle": "2021-12-31T09:29:57.254700Z",
     "shell.execute_reply": "2021-12-31T09:29:57.254282Z",
     "shell.execute_reply.started": "2021-12-31T07:01:07.430441Z"
    },
    "papermill": {
     "duration": 0.02075,
     "end_time": "2021-12-31T09:29:57.254798",
     "exception": false,
     "start_time": "2021-12-31T09:29:57.234048",
     "status": "completed"
    },
    "tags": []
   },
   "outputs": [],
   "source": [
    "def rmse(y_true, y_pred):\n",
    "    return tf.sqrt(tf.reduce_mean((y_true -  y_pred) ** 2))"
   ]
  },
  {
   "cell_type": "code",
   "execution_count": 8,
   "id": "c58f2a58",
   "metadata": {
    "execution": {
     "iopub.execute_input": "2021-12-31T09:29:57.287109Z",
     "iopub.status.busy": "2021-12-31T09:29:57.286357Z",
     "iopub.status.idle": "2021-12-31T09:29:57.288699Z",
     "shell.execute_reply": "2021-12-31T09:29:57.288283Z",
     "shell.execute_reply.started": "2021-12-31T07:01:07.445505Z"
    },
    "papermill": {
     "duration": 0.019697,
     "end_time": "2021-12-31T09:29:57.288796",
     "exception": false,
     "start_time": "2021-12-31T09:29:57.269099",
     "status": "completed"
    },
    "tags": []
   },
   "outputs": [],
   "source": [
    "# def base_model():\n",
    "#     efficient_net = tf.keras.applications.EfficientNetB0(\n",
    "#         weights = \"../input/keras-applications-models/EfficientNetB0.h5\", \n",
    "#         include_top = False, \n",
    "#         input_shape = (image_size, image_size, 3)\n",
    "#     )    \n",
    "#     efficient_net.trainable = False\n",
    "#     return efficient_net"
   ]
  },
  {
   "cell_type": "code",
   "execution_count": 9,
   "id": "03e7c53f",
   "metadata": {
    "execution": {
     "iopub.execute_input": "2021-12-31T09:29:57.320662Z",
     "iopub.status.busy": "2021-12-31T09:29:57.320060Z",
     "iopub.status.idle": "2021-12-31T09:29:57.322246Z",
     "shell.execute_reply": "2021-12-31T09:29:57.322683Z",
     "shell.execute_reply.started": "2021-12-31T07:01:07.456346Z"
    },
    "papermill": {
     "duration": 0.019747,
     "end_time": "2021-12-31T09:29:57.322793",
     "exception": false,
     "start_time": "2021-12-31T09:29:57.303046",
     "status": "completed"
    },
    "tags": []
   },
   "outputs": [],
   "source": [
    "# efficient_net = base_model()"
   ]
  },
  {
   "cell_type": "code",
   "execution_count": 10,
   "id": "f0d7a77b",
   "metadata": {
    "execution": {
     "iopub.execute_input": "2021-12-31T09:29:57.354571Z",
     "iopub.status.busy": "2021-12-31T09:29:57.353952Z",
     "iopub.status.idle": "2021-12-31T09:29:57.363623Z",
     "shell.execute_reply": "2021-12-31T09:29:57.363190Z",
     "shell.execute_reply.started": "2021-12-31T07:01:07.466951Z"
    },
    "papermill": {
     "duration": 0.026741,
     "end_time": "2021-12-31T09:29:57.363723",
     "exception": false,
     "start_time": "2021-12-31T09:29:57.336982",
     "status": "completed"
    },
    "tags": []
   },
   "outputs": [],
   "source": [
    "from keras.applications import vgg16"
   ]
  },
  {
   "cell_type": "code",
   "execution_count": 11,
   "id": "2acb86e6",
   "metadata": {
    "execution": {
     "iopub.execute_input": "2021-12-31T09:29:57.396789Z",
     "iopub.status.busy": "2021-12-31T09:29:57.396023Z",
     "iopub.status.idle": "2021-12-31T09:29:57.397968Z",
     "shell.execute_reply": "2021-12-31T09:29:57.398392Z",
     "shell.execute_reply.started": "2021-12-31T07:01:38.450400Z"
    },
    "papermill": {
     "duration": 0.020723,
     "end_time": "2021-12-31T09:29:57.398522",
     "exception": false,
     "start_time": "2021-12-31T09:29:57.377799",
     "status": "completed"
    },
    "tags": []
   },
   "outputs": [],
   "source": [
    "def base_model():\n",
    "    resnet50_net = tf.keras.applications.resnet50.ResNet50(\n",
    "        weights = \"../input/keras-pretrained-models/ResNet50_NoTop_ImageNet.h5\", \n",
    "        include_top = False, \n",
    "        input_shape = (image_size, image_size, 3)\n",
    "    )    \n",
    "    resnet50_net.trainable = False\n",
    "    return resnet50_net"
   ]
  },
  {
   "cell_type": "code",
   "execution_count": 12,
   "id": "2bbb10f2",
   "metadata": {
    "execution": {
     "iopub.execute_input": "2021-12-31T09:29:57.430753Z",
     "iopub.status.busy": "2021-12-31T09:29:57.430041Z",
     "iopub.status.idle": "2021-12-31T09:30:03.748005Z",
     "shell.execute_reply": "2021-12-31T09:30:03.747449Z",
     "shell.execute_reply.started": "2021-12-31T07:01:41.951292Z"
    },
    "papermill": {
     "duration": 6.33549,
     "end_time": "2021-12-31T09:30:03.748136",
     "exception": false,
     "start_time": "2021-12-31T09:29:57.412646",
     "status": "completed"
    },
    "tags": []
   },
   "outputs": [
    {
     "name": "stderr",
     "output_type": "stream",
     "text": [
      "2021-12-31 09:29:57.939204: I tensorflow/stream_executor/cuda/cuda_gpu_executor.cc:937] successful NUMA node read from SysFS had negative value (-1), but there must be at least one NUMA node, so returning NUMA node zero\n",
      "2021-12-31 09:29:58.044668: I tensorflow/stream_executor/cuda/cuda_gpu_executor.cc:937] successful NUMA node read from SysFS had negative value (-1), but there must be at least one NUMA node, so returning NUMA node zero\n",
      "2021-12-31 09:29:58.045364: I tensorflow/stream_executor/cuda/cuda_gpu_executor.cc:937] successful NUMA node read from SysFS had negative value (-1), but there must be at least one NUMA node, so returning NUMA node zero\n",
      "2021-12-31 09:29:58.046942: I tensorflow/core/platform/cpu_feature_guard.cc:142] This TensorFlow binary is optimized with oneAPI Deep Neural Network Library (oneDNN) to use the following CPU instructions in performance-critical operations:  AVX2 AVX512F FMA\n",
      "To enable them in other operations, rebuild TensorFlow with the appropriate compiler flags.\n",
      "2021-12-31 09:29:58.053863: I tensorflow/stream_executor/cuda/cuda_gpu_executor.cc:937] successful NUMA node read from SysFS had negative value (-1), but there must be at least one NUMA node, so returning NUMA node zero\n",
      "2021-12-31 09:29:58.054572: I tensorflow/stream_executor/cuda/cuda_gpu_executor.cc:937] successful NUMA node read from SysFS had negative value (-1), but there must be at least one NUMA node, so returning NUMA node zero\n",
      "2021-12-31 09:29:58.055253: I tensorflow/stream_executor/cuda/cuda_gpu_executor.cc:937] successful NUMA node read from SysFS had negative value (-1), but there must be at least one NUMA node, so returning NUMA node zero\n",
      "2021-12-31 09:29:59.744433: I tensorflow/stream_executor/cuda/cuda_gpu_executor.cc:937] successful NUMA node read from SysFS had negative value (-1), but there must be at least one NUMA node, so returning NUMA node zero\n",
      "2021-12-31 09:29:59.745271: I tensorflow/stream_executor/cuda/cuda_gpu_executor.cc:937] successful NUMA node read from SysFS had negative value (-1), but there must be at least one NUMA node, so returning NUMA node zero\n",
      "2021-12-31 09:29:59.745927: I tensorflow/stream_executor/cuda/cuda_gpu_executor.cc:937] successful NUMA node read from SysFS had negative value (-1), but there must be at least one NUMA node, so returning NUMA node zero\n",
      "2021-12-31 09:29:59.746508: I tensorflow/core/common_runtime/gpu/gpu_device.cc:1510] Created device /job:localhost/replica:0/task:0/device:GPU:0 with 15403 MB memory:  -> device: 0, name: Tesla P100-PCIE-16GB, pci bus id: 0000:00:04.0, compute capability: 6.0\n"
     ]
    }
   ],
   "source": [
    "resnet50_net = base_model()"
   ]
  },
  {
   "cell_type": "code",
   "execution_count": 13,
   "id": "8c5ca9f8",
   "metadata": {
    "execution": {
     "iopub.execute_input": "2021-12-31T09:30:03.786130Z",
     "iopub.status.busy": "2021-12-31T09:30:03.785421Z",
     "iopub.status.idle": "2021-12-31T09:30:03.787420Z",
     "shell.execute_reply": "2021-12-31T09:30:03.788194Z",
     "shell.execute_reply.started": "2021-12-31T07:03:18.064641Z"
    },
    "papermill": {
     "duration": 0.024587,
     "end_time": "2021-12-31T09:30:03.788324",
     "exception": false,
     "start_time": "2021-12-31T09:30:03.763737",
     "status": "completed"
    },
    "tags": []
   },
   "outputs": [],
   "source": [
    "def get_tabular_model(inputs):\n",
    "#     width = 32\n",
    "#     depth = 3\n",
    "#     activation = \"relu\"\n",
    "#     kernel_regularizer = keras.regularizers.l2()\n",
    "#     x = keras.layers.Dense(width, activation=activation, kernel_regularizer=kernel_regularizer)(inputs)\n",
    "#     for i in range(depth):\n",
    "#         if i == 0:\n",
    "#             x = inputs\n",
    "#         x = keras.layers.Dense(\n",
    "#             width, \n",
    "#             activation=activation,\n",
    "#             kernel_regularizer=kernel_regularizer\n",
    "#         )(x)\n",
    "#         if (i + 1) % 3 == 0:\n",
    "#             x = keras.layers.Concatenate()([x, inputs])\n",
    "    activation = \"relu\"\n",
    "    kernel_regularizer = keras.regularizers.l2()\n",
    "    x = keras.layers.Dense(12, activation=activation, kernel_regularizer = keras.regularizers.l2())(inputs)\n",
    "    x = keras.layers.Dense(64, activation=activation,kernel_regularizer = keras.regularizers.l2())(x)\n",
    "    x = keras.layers.Dropout(0.3)(x)\n",
    "    x = keras.layers.BatchNormalization()(x)\n",
    "    x = keras.layers.Dense(128, activation=activation,kernel_regularizer = keras.regularizers.l2())(x)\n",
    "    x = keras.layers.Dense(64, activation=activation,kernel_regularizer = keras.regularizers.l2())(x)\n",
    "    x = keras.layers.Concatenate()([x, inputs])\n",
    "    return x"
   ]
  },
  {
   "cell_type": "code",
   "execution_count": 14,
   "id": "2293e54e",
   "metadata": {
    "execution": {
     "iopub.execute_input": "2021-12-31T09:30:03.824089Z",
     "iopub.status.busy": "2021-12-31T09:30:03.823293Z",
     "iopub.status.idle": "2021-12-31T09:30:03.825297Z",
     "shell.execute_reply": "2021-12-31T09:30:03.825700Z",
     "shell.execute_reply.started": "2021-12-31T07:03:21.119201Z"
    },
    "papermill": {
     "duration": 0.022917,
     "end_time": "2021-12-31T09:30:03.825836",
     "exception": false,
     "start_time": "2021-12-31T09:30:03.802919",
     "status": "completed"
    },
    "tags": []
   },
   "outputs": [],
   "source": [
    "def get_model():\n",
    "    image_inputs = tf.keras.Input((image_size, image_size , 3))\n",
    "    tabular_inputs = tf.keras.Input(len(tabular_columns))\n",
    "    image_x = resnet50_net(image_inputs)\n",
    "    image_x = tf.keras.layers.GlobalAveragePooling2D()(image_x)\n",
    "    #for _ in range(1):\n",
    "    #    image_x = tf.keras.layers.Dense(256, kernel_regularizer=tf.keras.regularizers.l2())(image_x)\n",
    "    image_x = tf.keras.layers.Dropout(0.5)(image_x)\n",
    "    tabular_x = get_tabular_model(tabular_inputs)\n",
    "    x = tf.keras.layers.Concatenate(axis=1)([image_x, tabular_x])\n",
    "    output = tf.keras.layers.Dense(1)(x)\n",
    "    model = tf.keras.Model(inputs=[image_inputs, tabular_inputs], outputs=[output])\n",
    "    return model"
   ]
  },
  {
   "cell_type": "code",
   "execution_count": 15,
   "id": "08702d30",
   "metadata": {
    "execution": {
     "iopub.execute_input": "2021-12-31T09:30:03.863262Z",
     "iopub.status.busy": "2021-12-31T09:30:03.862447Z",
     "iopub.status.idle": "2021-12-31T09:30:11.036578Z",
     "shell.execute_reply": "2021-12-31T09:30:11.035983Z",
     "shell.execute_reply.started": "2021-12-31T07:03:23.934967Z"
    },
    "papermill": {
     "duration": 7.196369,
     "end_time": "2021-12-31T09:30:11.036742",
     "exception": false,
     "start_time": "2021-12-31T09:30:03.840373",
     "status": "completed"
    },
    "tags": []
   },
   "outputs": [
    {
     "name": "stdout",
     "output_type": "stream",
     "text": [
      "Model: \"model\"\n",
      "__________________________________________________________________________________________________\n",
      "Layer (type)                    Output Shape         Param #     Connected to                     \n",
      "==================================================================================================\n",
      "input_3 (InputLayer)            [(None, 12)]         0                                            \n",
      "__________________________________________________________________________________________________\n",
      "dense (Dense)                   (None, 12)           156         input_3[0][0]                    \n",
      "__________________________________________________________________________________________________\n",
      "dense_1 (Dense)                 (None, 64)           832         dense[0][0]                      \n",
      "__________________________________________________________________________________________________\n",
      "dropout_1 (Dropout)             (None, 64)           0           dense_1[0][0]                    \n",
      "__________________________________________________________________________________________________\n",
      "input_2 (InputLayer)            [(None, 224, 224, 3) 0                                            \n",
      "__________________________________________________________________________________________________\n",
      "batch_normalization (BatchNorma (None, 64)           256         dropout_1[0][0]                  \n",
      "__________________________________________________________________________________________________\n",
      "resnet50 (Functional)           (None, 7, 7, 2048)   23587712    input_2[0][0]                    \n",
      "__________________________________________________________________________________________________\n",
      "dense_2 (Dense)                 (None, 128)          8320        batch_normalization[0][0]        \n",
      "__________________________________________________________________________________________________\n",
      "global_average_pooling2d (Globa (None, 2048)         0           resnet50[0][0]                   \n",
      "__________________________________________________________________________________________________\n",
      "dense_3 (Dense)                 (None, 64)           8256        dense_2[0][0]                    \n",
      "__________________________________________________________________________________________________\n",
      "dropout (Dropout)               (None, 2048)         0           global_average_pooling2d[0][0]   \n",
      "__________________________________________________________________________________________________\n",
      "concatenate (Concatenate)       (None, 76)           0           dense_3[0][0]                    \n",
      "                                                                 input_3[0][0]                    \n",
      "__________________________________________________________________________________________________\n",
      "concatenate_1 (Concatenate)     (None, 2124)         0           dropout[0][0]                    \n",
      "                                                                 concatenate[0][0]                \n",
      "__________________________________________________________________________________________________\n",
      "dense_4 (Dense)                 (None, 1)            2125        concatenate_1[0][0]              \n",
      "==================================================================================================\n",
      "Total params: 23,607,657\n",
      "Trainable params: 19,817\n",
      "Non-trainable params: 23,587,840\n",
      "__________________________________________________________________________________________________\n",
      "None\n",
      "(1, 224, 224, 3) (1, 12)\n"
     ]
    },
    {
     "name": "stderr",
     "output_type": "stream",
     "text": [
      "2021-12-31 09:30:06.734331: I tensorflow/stream_executor/cuda/cuda_dnn.cc:369] Loaded cuDNN version 8005\n"
     ]
    },
    {
     "name": "stdout",
     "output_type": "stream",
     "text": [
      "(1, 1)\n"
     ]
    }
   ],
   "source": [
    "show_architecture = True\n",
    "if show_architecture:\n",
    "    model = get_model()\n",
    "    tf.keras.utils.plot_model(model, show_shapes=True)\n",
    "    print(model.summary())\n",
    "    image = np.random.normal(size=(1, image_size, image_size, 3))\n",
    "    tabular = np.random.normal(size=(1, len(tabular_columns)))\n",
    "    print(image.shape, tabular.shape)\n",
    "    print(model((image, tabular)).shape)"
   ]
  },
  {
   "cell_type": "code",
   "execution_count": 16,
   "id": "4b34c01a",
   "metadata": {
    "execution": {
     "iopub.execute_input": "2021-12-31T09:30:11.078333Z",
     "iopub.status.busy": "2021-12-31T09:30:11.077521Z",
     "iopub.status.idle": "2021-12-31T10:13:44.857743Z",
     "shell.execute_reply": "2021-12-31T10:13:44.857076Z",
     "shell.execute_reply.started": "2021-12-31T07:21:47.512695Z"
    },
    "papermill": {
     "duration": 2613.804437,
     "end_time": "2021-12-31T10:13:44.858541",
     "exception": false,
     "start_time": "2021-12-31T09:30:11.054104",
     "status": "completed"
    },
    "tags": []
   },
   "outputs": [
    {
     "name": "stdout",
     "output_type": "stream",
     "text": [
      "Epoch 1/20\n"
     ]
    },
    {
     "name": "stderr",
     "output_type": "stream",
     "text": [
      "2021-12-31 09:30:14.845871: I tensorflow/compiler/mlir/mlir_graph_optimization_pass.cc:185] None of the MLIR Optimization Passes are enabled (registered 2)\n",
      "2021-12-31 09:30:25.368733: I tensorflow/core/kernels/data/shuffle_dataset_op.cc:175] Filling up shuffle buffer (this may take a while): 498 of 512\n",
      "2021-12-31 09:30:25.668654: I tensorflow/core/kernels/data/shuffle_dataset_op.cc:228] Shuffle buffer filled.\n"
     ]
    },
    {
     "name": "stdout",
     "output_type": "stream",
     "text": [
      "124/124 [==============================] - 174s 1s/step - loss: 24.8052 - mae: 18.0316 - mape: 75.9236 - val_loss: 22.3742 - val_mae: 15.6482 - val_mape: 71.2250\n"
     ]
    },
    {
     "name": "stderr",
     "output_type": "stream",
     "text": [
      "/opt/conda/lib/python3.7/site-packages/keras/utils/generic_utils.py:497: CustomMaskWarning: Custom mask layers require a config and must override get_config. When loading, the custom mask layer must be passed to the custom_objects argument.\n",
      "  category=CustomMaskWarning)\n"
     ]
    },
    {
     "name": "stdout",
     "output_type": "stream",
     "text": [
      "Epoch 2/20\n",
      "124/124 [==============================] - 16s 128ms/step - loss: 21.0335 - mae: 15.2779 - mape: 76.6189 - val_loss: 21.3248 - val_mae: 15.1135 - val_mape: 70.1250\n",
      "Epoch 3/20\n",
      "124/124 [==============================] - 16s 126ms/step - loss: 20.3851 - mae: 14.9513 - mape: 76.0100 - val_loss: 20.6513 - val_mae: 14.8574 - val_mape: 71.5228\n",
      "Epoch 4/20\n",
      "124/124 [==============================] - 16s 128ms/step - loss: 20.0376 - mae: 14.7350 - mape: 75.9898 - val_loss: 20.2421 - val_mae: 14.7589 - val_mape: 72.8428\n",
      "Epoch 5/20\n",
      "124/124 [==============================] - 16s 126ms/step - loss: 19.7687 - mae: 14.6089 - mape: 75.6443 - val_loss: 20.0302 - val_mae: 14.6579 - val_mape: 73.0459\n",
      "Epoch 6/20\n",
      "124/124 [==============================] - 16s 127ms/step - loss: 19.6462 - mae: 14.5333 - mape: 75.1109 - val_loss: 19.8850 - val_mae: 14.6401 - val_mape: 73.7070\n",
      "Epoch 7/20\n",
      "124/124 [==============================] - 16s 127ms/step - loss: 19.5692 - mae: 14.4834 - mape: 75.1640 - val_loss: 19.7792 - val_mae: 14.6694 - val_mape: 74.9647\n",
      "Epoch 8/20\n",
      "124/124 [==============================] - 16s 127ms/step - loss: 19.4421 - mae: 14.4340 - mape: 74.8506 - val_loss: 19.7138 - val_mae: 14.6623 - val_mape: 75.3167\n",
      "Epoch 9/20\n",
      "124/124 [==============================] - 16s 126ms/step - loss: 19.4025 - mae: 14.3883 - mape: 74.9510 - val_loss: 19.6365 - val_mae: 14.5363 - val_mape: 73.9743\n",
      "Epoch 10/20\n",
      "124/124 [==============================] - 16s 126ms/step - loss: 19.3056 - mae: 14.3725 - mape: 74.9356 - val_loss: 19.6032 - val_mae: 14.6093 - val_mape: 75.2237\n",
      "Epoch 11/20\n",
      "124/124 [==============================] - 16s 126ms/step - loss: 19.2408 - mae: 14.2856 - mape: 74.4343 - val_loss: 19.5580 - val_mae: 14.4917 - val_mape: 73.8419\n",
      "Epoch 12/20\n",
      "124/124 [==============================] - 16s 126ms/step - loss: 19.2052 - mae: 14.2754 - mape: 75.0210 - val_loss: 19.5430 - val_mae: 14.5543 - val_mape: 74.9593\n",
      "Epoch 13/20\n",
      "124/124 [==============================] - 16s 126ms/step - loss: 19.1365 - mae: 14.2304 - mape: 74.6191 - val_loss: 19.5242 - val_mae: 14.5518 - val_mape: 75.1307\n",
      "Epoch 14/20\n",
      "124/124 [==============================] - 16s 126ms/step - loss: 19.1707 - mae: 14.2984 - mape: 75.3341 - val_loss: 19.4949 - val_mae: 14.4718 - val_mape: 74.1381\n",
      "Epoch 15/20\n",
      "124/124 [==============================] - 16s 127ms/step - loss: 19.0710 - mae: 14.1828 - mape: 74.2233 - val_loss: 19.5237 - val_mae: 14.6900 - val_mape: 77.1051\n",
      "Epoch 16/20\n",
      "124/124 [==============================] - 16s 126ms/step - loss: 19.0941 - mae: 14.2186 - mape: 74.3260 - val_loss: 19.4582 - val_mae: 14.4895 - val_mape: 74.5692\n",
      "Epoch 17/20\n",
      "124/124 [==============================] - 16s 126ms/step - loss: 19.0295 - mae: 14.1383 - mape: 74.3423 - val_loss: 19.4434 - val_mae: 14.4876 - val_mape: 74.8832\n",
      "Epoch 18/20\n",
      "124/124 [==============================] - 16s 125ms/step - loss: 19.0573 - mae: 14.2095 - mape: 74.7060 - val_loss: 19.4230 - val_mae: 14.5003 - val_mape: 74.9488\n",
      "Epoch 19/20\n",
      "124/124 [==============================] - 16s 126ms/step - loss: 18.9784 - mae: 14.1147 - mape: 74.3159 - val_loss: 19.4329 - val_mae: 14.3690 - val_mape: 72.9184\n",
      "Epoch 20/20\n",
      "124/124 [==============================] - 16s 125ms/step - loss: 19.0328 - mae: 14.1682 - mape: 74.1488 - val_loss: 19.4050 - val_mae: 14.4576 - val_mape: 74.4438\n",
      "Epoch 1/20\n",
      "124/124 [==============================] - 158s 1s/step - loss: 25.1193 - mae: 18.0922 - mape: 76.4518 - val_loss: 22.2391 - val_mae: 15.3159 - val_mape: 67.6052\n"
     ]
    },
    {
     "name": "stderr",
     "output_type": "stream",
     "text": [
      "/opt/conda/lib/python3.7/site-packages/keras/utils/generic_utils.py:497: CustomMaskWarning: Custom mask layers require a config and must override get_config. When loading, the custom mask layer must be passed to the custom_objects argument.\n",
      "  category=CustomMaskWarning)\n"
     ]
    },
    {
     "name": "stdout",
     "output_type": "stream",
     "text": [
      "Epoch 2/20\n",
      "124/124 [==============================] - 16s 126ms/step - loss: 21.3073 - mae: 15.3893 - mape: 77.2808 - val_loss: 21.2002 - val_mae: 14.8026 - val_mape: 66.4836\n",
      "Epoch 3/20\n",
      "124/124 [==============================] - 16s 126ms/step - loss: 20.5944 - mae: 15.0042 - mape: 76.2216 - val_loss: 20.5630 - val_mae: 14.4688 - val_mape: 66.5130\n",
      "Epoch 4/20\n",
      "124/124 [==============================] - 16s 126ms/step - loss: 20.2715 - mae: 14.8471 - mape: 75.8458 - val_loss: 20.0255 - val_mae: 14.2434 - val_mape: 68.3797\n",
      "Epoch 5/20\n",
      "124/124 [==============================] - 16s 125ms/step - loss: 20.0233 - mae: 14.7036 - mape: 75.3243 - val_loss: 19.6969 - val_mae: 14.1275 - val_mape: 69.7613\n",
      "Epoch 6/20\n",
      "124/124 [==============================] - 16s 127ms/step - loss: 19.9004 - mae: 14.6890 - mape: 75.3656 - val_loss: 19.4800 - val_mae: 14.1440 - val_mape: 71.9032\n",
      "Epoch 7/20\n",
      "124/124 [==============================] - 16s 125ms/step - loss: 19.6960 - mae: 14.5338 - mape: 75.0749 - val_loss: 19.4050 - val_mae: 14.0309 - val_mape: 70.9107\n",
      "Epoch 8/20\n",
      "124/124 [==============================] - 16s 126ms/step - loss: 19.6543 - mae: 14.4899 - mape: 75.0814 - val_loss: 19.3372 - val_mae: 13.9807 - val_mape: 70.6917\n",
      "Epoch 9/20\n",
      "124/124 [==============================] - 16s 127ms/step - loss: 19.5394 - mae: 14.4469 - mape: 74.5188 - val_loss: 19.2332 - val_mae: 14.0376 - val_mape: 72.5322\n",
      "Epoch 10/20\n",
      "124/124 [==============================] - 16s 125ms/step - loss: 19.5239 - mae: 14.4522 - mape: 74.9323 - val_loss: 19.1869 - val_mae: 13.9963 - val_mape: 72.1140\n",
      "Epoch 11/20\n",
      "124/124 [==============================] - 16s 128ms/step - loss: 19.4776 - mae: 14.3984 - mape: 74.6888 - val_loss: 19.1504 - val_mae: 13.9477 - val_mape: 71.8167\n",
      "Epoch 12/20\n",
      "124/124 [==============================] - 16s 126ms/step - loss: 19.4272 - mae: 14.3765 - mape: 74.0919 - val_loss: 19.1354 - val_mae: 13.9531 - val_mape: 72.1164\n",
      "Epoch 13/20\n",
      "124/124 [==============================] - 16s 127ms/step - loss: 19.3901 - mae: 14.3240 - mape: 74.4135 - val_loss: 19.1134 - val_mae: 13.9260 - val_mape: 71.6902\n",
      "Epoch 14/20\n",
      "124/124 [==============================] - 16s 126ms/step - loss: 19.3994 - mae: 14.3597 - mape: 74.3485 - val_loss: 19.0809 - val_mae: 13.9599 - val_mape: 72.3365\n",
      "Epoch 15/20\n",
      "124/124 [==============================] - 16s 126ms/step - loss: 19.3076 - mae: 14.3100 - mape: 74.1967 - val_loss: 19.0656 - val_mae: 14.0445 - val_mape: 73.8556\n",
      "Epoch 16/20\n",
      "124/124 [==============================] - 16s 126ms/step - loss: 19.3162 - mae: 14.3502 - mape: 74.3792 - val_loss: 19.0934 - val_mae: 13.9058 - val_mape: 71.5734\n",
      "Epoch 17/20\n",
      "124/124 [==============================] - 16s 126ms/step - loss: 19.3210 - mae: 14.3178 - mape: 74.2405 - val_loss: 19.0364 - val_mae: 13.8937 - val_mape: 71.8409\n",
      "Epoch 18/20\n",
      "124/124 [==============================] - 16s 126ms/step - loss: 19.1507 - mae: 14.2357 - mape: 73.5036 - val_loss: 19.0177 - val_mae: 13.9029 - val_mape: 72.2192\n",
      "Epoch 19/20\n",
      "124/124 [==============================] - 16s 126ms/step - loss: 19.1668 - mae: 14.1977 - mape: 73.3668 - val_loss: 18.9945 - val_mae: 13.9310 - val_mape: 72.8045\n",
      "Epoch 20/20\n",
      "124/124 [==============================] - 16s 126ms/step - loss: 19.1812 - mae: 14.2352 - mape: 73.8289 - val_loss: 18.9772 - val_mae: 13.9155 - val_mape: 72.7938\n",
      "Epoch 1/20\n",
      "124/124 [==============================] - 158s 1s/step - loss: 25.1307 - mae: 18.1274 - mape: 76.1454 - val_loss: 21.3711 - val_mae: 14.9868 - val_mape: 74.8912\n"
     ]
    },
    {
     "name": "stderr",
     "output_type": "stream",
     "text": [
      "/opt/conda/lib/python3.7/site-packages/keras/utils/generic_utils.py:497: CustomMaskWarning: Custom mask layers require a config and must override get_config. When loading, the custom mask layer must be passed to the custom_objects argument.\n",
      "  category=CustomMaskWarning)\n"
     ]
    },
    {
     "name": "stdout",
     "output_type": "stream",
     "text": [
      "Epoch 2/20\n",
      "124/124 [==============================] - 16s 127ms/step - loss: 21.3122 - mae: 15.4271 - mape: 76.8526 - val_loss: 20.4509 - val_mae: 14.4834 - val_mape: 72.5602\n",
      "Epoch 3/20\n",
      "124/124 [==============================] - 16s 127ms/step - loss: 20.5686 - mae: 15.0188 - mape: 75.8339 - val_loss: 19.9835 - val_mae: 14.1688 - val_mape: 70.7515\n",
      "Epoch 4/20\n",
      "124/124 [==============================] - 16s 126ms/step - loss: 20.2717 - mae: 14.8438 - mape: 75.0890 - val_loss: 19.5694 - val_mae: 14.0643 - val_mape: 72.4949\n",
      "Epoch 5/20\n",
      "124/124 [==============================] - 16s 126ms/step - loss: 20.0518 - mae: 14.7329 - mape: 74.9849 - val_loss: 19.3652 - val_mae: 13.9843 - val_mape: 72.5817\n",
      "Epoch 6/20\n",
      "124/124 [==============================] - 16s 126ms/step - loss: 19.8450 - mae: 14.5954 - mape: 74.5918 - val_loss: 19.2435 - val_mae: 13.9503 - val_mape: 73.0121\n",
      "Epoch 7/20\n",
      "124/124 [==============================] - 16s 126ms/step - loss: 19.7750 - mae: 14.5904 - mape: 74.3549 - val_loss: 19.1378 - val_mae: 13.9595 - val_mape: 74.0074\n",
      "Epoch 8/20\n",
      "124/124 [==============================] - 16s 126ms/step - loss: 19.6871 - mae: 14.5115 - mape: 74.2114 - val_loss: 19.0857 - val_mae: 13.9539 - val_mape: 74.0823\n",
      "Epoch 9/20\n",
      "124/124 [==============================] - 16s 126ms/step - loss: 19.6078 - mae: 14.5057 - mape: 74.4775 - val_loss: 19.0294 - val_mae: 13.9934 - val_mape: 75.6351\n",
      "Epoch 10/20\n",
      "124/124 [==============================] - 16s 126ms/step - loss: 19.5410 - mae: 14.4926 - mape: 74.2234 - val_loss: 18.9882 - val_mae: 13.8913 - val_mape: 74.2128\n",
      "Epoch 11/20\n",
      "124/124 [==============================] - 16s 126ms/step - loss: 19.4572 - mae: 14.4526 - mape: 73.8378 - val_loss: 18.9751 - val_mae: 13.8453 - val_mape: 73.4896\n",
      "Epoch 12/20\n",
      "124/124 [==============================] - 16s 126ms/step - loss: 19.4239 - mae: 14.4008 - mape: 73.5933 - val_loss: 18.9470 - val_mae: 13.8412 - val_mape: 73.2033\n",
      "Epoch 13/20\n",
      "124/124 [==============================] - 16s 126ms/step - loss: 19.3917 - mae: 14.3943 - mape: 73.6000 - val_loss: 18.9028 - val_mae: 13.8549 - val_mape: 74.1064\n",
      "Epoch 14/20\n",
      "124/124 [==============================] - 16s 126ms/step - loss: 19.3232 - mae: 14.3337 - mape: 73.7681 - val_loss: 18.9379 - val_mae: 13.7982 - val_mape: 72.6032\n",
      "Epoch 15/20\n",
      "124/124 [==============================] - 16s 126ms/step - loss: 19.2558 - mae: 14.2968 - mape: 73.4920 - val_loss: 18.9005 - val_mae: 13.7906 - val_mape: 72.7374\n",
      "Epoch 16/20\n",
      "124/124 [==============================] - 16s 126ms/step - loss: 19.3181 - mae: 14.3441 - mape: 73.8569 - val_loss: 18.8531 - val_mae: 13.8445 - val_mape: 73.7987\n",
      "Epoch 17/20\n",
      "124/124 [==============================] - 16s 126ms/step - loss: 19.2779 - mae: 14.3216 - mape: 73.9885 - val_loss: 18.8336 - val_mae: 13.8286 - val_mape: 73.8991\n",
      "Epoch 18/20\n",
      "124/124 [==============================] - 16s 126ms/step - loss: 19.2362 - mae: 14.3229 - mape: 73.6047 - val_loss: 18.8225 - val_mae: 13.8843 - val_mape: 74.7088\n",
      "Epoch 19/20\n",
      "124/124 [==============================] - 16s 126ms/step - loss: 19.1537 - mae: 14.2343 - mape: 73.1708 - val_loss: 18.8135 - val_mae: 13.8600 - val_mape: 74.4126\n",
      "Epoch 20/20\n",
      "124/124 [==============================] - 16s 126ms/step - loss: 19.1859 - mae: 14.2688 - mape: 73.2883 - val_loss: 18.8058 - val_mae: 13.8048 - val_mape: 73.5978\n",
      "Epoch 1/20\n",
      "124/124 [==============================] - 149s 1s/step - loss: 25.1797 - mae: 18.2063 - mape: 76.1684 - val_loss: 21.6438 - val_mae: 15.1913 - val_mape: 73.1619\n"
     ]
    },
    {
     "name": "stderr",
     "output_type": "stream",
     "text": [
      "/opt/conda/lib/python3.7/site-packages/keras/utils/generic_utils.py:497: CustomMaskWarning: Custom mask layers require a config and must override get_config. When loading, the custom mask layer must be passed to the custom_objects argument.\n",
      "  category=CustomMaskWarning)\n"
     ]
    },
    {
     "name": "stdout",
     "output_type": "stream",
     "text": [
      "Epoch 2/20\n",
      "124/124 [==============================] - 16s 127ms/step - loss: 21.3378 - mae: 15.4904 - mape: 77.1170 - val_loss: 20.5630 - val_mae: 14.6959 - val_mape: 72.8419\n",
      "Epoch 3/20\n",
      "124/124 [==============================] - 16s 125ms/step - loss: 20.6786 - mae: 15.0971 - mape: 76.0918 - val_loss: 20.0197 - val_mae: 14.4099 - val_mape: 72.8618\n",
      "Epoch 4/20\n",
      "124/124 [==============================] - 16s 126ms/step - loss: 20.2657 - mae: 14.8610 - mape: 75.7288 - val_loss: 19.6924 - val_mae: 14.2774 - val_mape: 73.3195\n",
      "Epoch 5/20\n",
      "124/124 [==============================] - 16s 128ms/step - loss: 20.1028 - mae: 14.7655 - mape: 75.2426 - val_loss: 19.5232 - val_mae: 14.1418 - val_mape: 72.6781\n",
      "Epoch 6/20\n",
      "124/124 [==============================] - 16s 126ms/step - loss: 19.8614 - mae: 14.5937 - mape: 75.2158 - val_loss: 19.3644 - val_mae: 14.1823 - val_mape: 74.7243\n",
      "Epoch 7/20\n",
      "124/124 [==============================] - 16s 127ms/step - loss: 19.7368 - mae: 14.5314 - mape: 74.7393 - val_loss: 19.3365 - val_mae: 14.1940 - val_mape: 75.1209\n",
      "Epoch 8/20\n",
      "124/124 [==============================] - 16s 125ms/step - loss: 19.6421 - mae: 14.4896 - mape: 74.4917 - val_loss: 19.2804 - val_mae: 14.0809 - val_mape: 73.7483\n",
      "Epoch 9/20\n",
      "124/124 [==============================] - 16s 128ms/step - loss: 19.5766 - mae: 14.4606 - mape: 74.7577 - val_loss: 19.2815 - val_mae: 14.0084 - val_mape: 72.7780\n",
      "Epoch 10/20\n",
      "124/124 [==============================] - 16s 126ms/step - loss: 19.4537 - mae: 14.3812 - mape: 74.5413 - val_loss: 19.1991 - val_mae: 14.0631 - val_mape: 74.3140\n",
      "Epoch 11/20\n",
      "124/124 [==============================] - 16s 129ms/step - loss: 19.4637 - mae: 14.3699 - mape: 74.4260 - val_loss: 19.1653 - val_mae: 14.0149 - val_mape: 73.5539\n",
      "Epoch 12/20\n",
      "124/124 [==============================] - 16s 125ms/step - loss: 19.4116 - mae: 14.3738 - mape: 74.0174 - val_loss: 19.1520 - val_mae: 14.0362 - val_mape: 74.0664\n",
      "Epoch 13/20\n",
      "124/124 [==============================] - 16s 127ms/step - loss: 19.3933 - mae: 14.3707 - mape: 74.1414 - val_loss: 19.1483 - val_mae: 14.0431 - val_mape: 74.2500\n",
      "Epoch 14/20\n",
      "124/124 [==============================] - 16s 126ms/step - loss: 19.2863 - mae: 14.3088 - mape: 74.1477 - val_loss: 19.1175 - val_mae: 14.0812 - val_mape: 75.1225\n",
      "Epoch 15/20\n",
      "124/124 [==============================] - 16s 127ms/step - loss: 19.2996 - mae: 14.3140 - mape: 73.9305 - val_loss: 19.0948 - val_mae: 14.0643 - val_mape: 75.0877\n",
      "Epoch 16/20\n",
      "124/124 [==============================] - 16s 126ms/step - loss: 19.2352 - mae: 14.2617 - mape: 74.0692 - val_loss: 19.1003 - val_mae: 14.0026 - val_mape: 73.9442\n",
      "Epoch 17/20\n",
      "124/124 [==============================] - 16s 127ms/step - loss: 19.2549 - mae: 14.2164 - mape: 73.5849 - val_loss: 19.0762 - val_mae: 14.0294 - val_mape: 74.5437\n",
      "Epoch 18/20\n",
      "124/124 [==============================] - 16s 126ms/step - loss: 19.1857 - mae: 14.2126 - mape: 74.0573 - val_loss: 19.0683 - val_mae: 14.0725 - val_mape: 75.4187\n",
      "Epoch 19/20\n",
      "124/124 [==============================] - 16s 126ms/step - loss: 19.2217 - mae: 14.2705 - mape: 74.1005 - val_loss: 19.1007 - val_mae: 14.1140 - val_mape: 75.8357\n",
      "Epoch 20/20\n",
      "124/124 [==============================] - 16s 127ms/step - loss: 19.1386 - mae: 14.2062 - mape: 73.7870 - val_loss: 19.0671 - val_mae: 14.0980 - val_mape: 75.6580\n",
      "Epoch 1/20\n",
      "124/124 [==============================] - 152s 1s/step - loss: 24.8033 - mae: 17.9353 - mape: 77.0144 - val_loss: 22.0615 - val_mae: 15.3137 - val_mape: 69.5474\n"
     ]
    },
    {
     "name": "stderr",
     "output_type": "stream",
     "text": [
      "/opt/conda/lib/python3.7/site-packages/keras/utils/generic_utils.py:497: CustomMaskWarning: Custom mask layers require a config and must override get_config. When loading, the custom mask layer must be passed to the custom_objects argument.\n",
      "  category=CustomMaskWarning)\n"
     ]
    },
    {
     "name": "stdout",
     "output_type": "stream",
     "text": [
      "Epoch 2/20\n",
      "124/124 [==============================] - 16s 127ms/step - loss: 21.1533 - mae: 15.3855 - mape: 77.3835 - val_loss: 21.1715 - val_mae: 14.7892 - val_mape: 67.8705\n",
      "Epoch 3/20\n",
      "124/124 [==============================] - 16s 126ms/step - loss: 20.4025 - mae: 14.9291 - mape: 76.6099 - val_loss: 20.6754 - val_mae: 14.5236 - val_mape: 68.0187\n",
      "Epoch 4/20\n",
      "124/124 [==============================] - 16s 127ms/step - loss: 20.1073 - mae: 14.7389 - mape: 75.7556 - val_loss: 20.2566 - val_mae: 14.4261 - val_mape: 70.2789\n",
      "Epoch 5/20\n",
      "124/124 [==============================] - 16s 126ms/step - loss: 19.7743 - mae: 14.5468 - mape: 75.3568 - val_loss: 19.9543 - val_mae: 14.5274 - val_mape: 74.4387\n",
      "Epoch 6/20\n",
      "124/124 [==============================] - 16s 127ms/step - loss: 19.6458 - mae: 14.5083 - mape: 74.9817 - val_loss: 19.8821 - val_mae: 14.4640 - val_mape: 74.0668\n",
      "Epoch 7/20\n",
      "124/124 [==============================] - 16s 126ms/step - loss: 19.4579 - mae: 14.3694 - mape: 74.3763 - val_loss: 19.7769 - val_mae: 14.5616 - val_mape: 76.3445\n",
      "Epoch 8/20\n",
      "124/124 [==============================] - 16s 127ms/step - loss: 19.4448 - mae: 14.3759 - mape: 74.8184 - val_loss: 19.7628 - val_mae: 14.4820 - val_mape: 75.1466\n",
      "Epoch 9/20\n",
      "124/124 [==============================] - 16s 125ms/step - loss: 19.3909 - mae: 14.3398 - mape: 74.6048 - val_loss: 19.7146 - val_mae: 14.4318 - val_mape: 74.9629\n",
      "Epoch 10/20\n",
      "124/124 [==============================] - 16s 128ms/step - loss: 19.3318 - mae: 14.2912 - mape: 74.4137 - val_loss: 19.6829 - val_mae: 14.4640 - val_mape: 75.5400\n",
      "Epoch 11/20\n",
      "124/124 [==============================] - 16s 126ms/step - loss: 19.3031 - mae: 14.2807 - mape: 74.8029 - val_loss: 19.6613 - val_mae: 14.4557 - val_mape: 75.6204\n",
      "Epoch 12/20\n",
      "124/124 [==============================] - 16s 129ms/step - loss: 19.2181 - mae: 14.2109 - mape: 74.0796 - val_loss: 19.6269 - val_mae: 14.4254 - val_mape: 75.5352\n",
      "Epoch 13/20\n",
      "124/124 [==============================] - 16s 126ms/step - loss: 19.1528 - mae: 14.1606 - mape: 73.7862 - val_loss: 19.6115 - val_mae: 14.5256 - val_mape: 76.9084\n",
      "Epoch 14/20\n",
      "124/124 [==============================] - 16s 126ms/step - loss: 19.1779 - mae: 14.1975 - mape: 74.4009 - val_loss: 19.6192 - val_mae: 14.6282 - val_mape: 78.1498\n",
      "Epoch 15/20\n",
      "124/124 [==============================] - 16s 126ms/step - loss: 19.1421 - mae: 14.2256 - mape: 74.3911 - val_loss: 19.5649 - val_mae: 14.4751 - val_mape: 76.5774\n",
      "Epoch 16/20\n",
      "124/124 [==============================] - 16s 127ms/step - loss: 19.0738 - mae: 14.1470 - mape: 73.9818 - val_loss: 19.5631 - val_mae: 14.5205 - val_mape: 77.1838\n",
      "Epoch 17/20\n",
      "124/124 [==============================] - 16s 126ms/step - loss: 19.0643 - mae: 14.1583 - mape: 73.7525 - val_loss: 19.5500 - val_mae: 14.4565 - val_mape: 76.1480\n",
      "Epoch 18/20\n",
      "124/124 [==============================] - 16s 127ms/step - loss: 19.0770 - mae: 14.2162 - mape: 73.7186 - val_loss: 19.5612 - val_mae: 14.5137 - val_mape: 77.0103\n",
      "Epoch 19/20\n",
      "124/124 [==============================] - 16s 126ms/step - loss: 19.0326 - mae: 14.1332 - mape: 73.9035 - val_loss: 19.5258 - val_mae: 14.5122 - val_mape: 77.1780\n",
      "Epoch 20/20\n",
      "124/124 [==============================] - 16s 127ms/step - loss: 18.9824 - mae: 14.1091 - mape: 73.7988 - val_loss: 19.5021 - val_mae: 14.3056 - val_mape: 74.3545\n"
     ]
    }
   ],
   "source": [
    "tf.keras.backend.clear_session()\n",
    "models = []\n",
    "histories = []\n",
    "kfold = KFold(n_splits=5, shuffle=True, random_state=42)\n",
    "for index, (train_indices, val_indices) in enumerate(kfold.split(train)):\n",
    "    if train_on_fold != None and train_on_fold != index:\n",
    "        continue\n",
    "    x_train = train.loc[train_indices, \"file_path\"]\n",
    "    tabular_train = train.loc[train_indices, [\"Pawpularity\"] + tabular_columns]\n",
    "    x_val= train.loc[val_indices, \"file_path\"]\n",
    "    tabular_val = train.loc[val_indices, [\"Pawpularity\"] + tabular_columns]\n",
    "    checkpoint_path = \"model_%d.h5\"%(index)\n",
    "    checkpoint = tf.keras.callbacks.ModelCheckpoint(\n",
    "        checkpoint_path, \n",
    "        save_best_only=True\n",
    "    )\n",
    "    early_stop = tf.keras.callbacks.EarlyStopping(\n",
    "        min_delta=1e-4, \n",
    "        patience=10\n",
    "    )\n",
    "    reduce_lr = tf.keras.callbacks.ReduceLROnPlateau(\n",
    "        factor=0.3,\n",
    "        patience=2, \n",
    "        min_lr=1e-7\n",
    "    )\n",
    "    \n",
    "    lr_schedule = keras.optimizers.schedules.ExponentialDecay(\n",
    "        initial_learning_rate=1e-3,\n",
    "        decay_steps=1000,\n",
    "        decay_rate=0.9,\n",
    "        staircase=True)\n",
    "    \n",
    "    callbacks = [early_stop, checkpoint, reduce_lr]\n",
    "    \n",
    "    optimizer = tf.keras.optimizers.Adam(learning_rate=lr_schedule)\n",
    "    \n",
    "    train_ds = tf.data.Dataset.from_tensor_slices((x_train, tabular_train)).map(preprocess_training).shuffle(512).batch(batch_size).cache().prefetch(AUTO)\n",
    "    val_ds = tf.data.Dataset.from_tensor_slices((x_val, tabular_val)).map(preprocess_validation).batch(batch_size).cache().prefetch(AUTO)\n",
    "    model = get_model()\n",
    "    model.compile(loss=rmse, optimizer=optimizer, metrics=[\"mae\", \"mape\"])\n",
    "    history = model.fit(train_ds, epochs=epochs, validation_data=val_ds, callbacks=callbacks)\n",
    "#     for metrics in [(\"loss\", \"val_loss\"), (\"mae\", \"val_mae\"), (\"mape\", \"val_mape\"), [\"lr\"]]:\n",
    "#         pd.DataFrame(history.history, columns=metrics).plot()\n",
    "#         plt.show()\n",
    "    model.load_weights(checkpoint_path)\n",
    "    histories.append(history)\n",
    "    models.append(model)"
   ]
  },
  {
   "cell_type": "code",
   "execution_count": 17,
   "id": "62e98b12",
   "metadata": {
    "execution": {
     "iopub.execute_input": "2021-12-31T10:13:51.267269Z",
     "iopub.status.busy": "2021-12-31T10:13:51.266542Z",
     "iopub.status.idle": "2021-12-31T10:13:51.270100Z",
     "shell.execute_reply": "2021-12-31T10:13:51.269597Z",
     "shell.execute_reply.started": "2021-12-31T08:19:16.071046Z"
    },
    "papermill": {
     "duration": 3.228982,
     "end_time": "2021-12-31T10:13:51.270218",
     "exception": false,
     "start_time": "2021-12-31T10:13:48.041236",
     "status": "completed"
    },
    "tags": []
   },
   "outputs": [],
   "source": [
    "def preprocess_test_data(image_url, tabular):\n",
    "    print(image_url, tabular)\n",
    "    image_string = tf.io.read_file(image_url)\n",
    "    image = tf.image.decode_jpeg(image_string, channels=3)\n",
    "    image = tf.image.central_crop(image, 1.0)\n",
    "    image = tf.image.resize(image, (image_size, image_size))\n",
    "    # 0 won't be used in prediction, but it's needed in this senario or the tabular variable is treated as label.\n",
    "    return (image, tabular), 0"
   ]
  },
  {
   "cell_type": "code",
   "execution_count": 18,
   "id": "ff5d5872",
   "metadata": {
    "execution": {
     "iopub.execute_input": "2021-12-31T10:13:57.963226Z",
     "iopub.status.busy": "2021-12-31T10:13:57.960763Z",
     "iopub.status.idle": "2021-12-31T10:13:58.074876Z",
     "shell.execute_reply": "2021-12-31T10:13:58.074394Z",
     "shell.execute_reply.started": "2021-12-31T08:37:43.605060Z"
    },
    "papermill": {
     "duration": 3.390548,
     "end_time": "2021-12-31T10:13:58.074999",
     "exception": false,
     "start_time": "2021-12-31T10:13:54.684451",
     "status": "completed"
    },
    "tags": []
   },
   "outputs": [
    {
     "name": "stdout",
     "output_type": "stream",
     "text": [
      "Tensor(\"args_0:0\", shape=(), dtype=string) Tensor(\"args_1:0\", shape=(12,), dtype=int64)\n"
     ]
    }
   ],
   "source": [
    "test_ds = tf.data.Dataset.from_tensor_slices((test[\"file_path\"], test[tabular_columns])).map(preprocess_test_data).batch(batch_size).cache().prefetch(2)"
   ]
  },
  {
   "cell_type": "code",
   "execution_count": 19,
   "id": "21a9ead0",
   "metadata": {
    "execution": {
     "iopub.execute_input": "2021-12-31T10:14:04.479783Z",
     "iopub.status.busy": "2021-12-31T10:14:04.478714Z",
     "iopub.status.idle": "2021-12-31T10:14:08.913014Z",
     "shell.execute_reply": "2021-12-31T10:14:08.912100Z",
     "shell.execute_reply.started": "2021-12-31T08:37:47.110312Z"
    },
    "papermill": {
     "duration": 7.686953,
     "end_time": "2021-12-31T10:14:08.913164",
     "exception": false,
     "start_time": "2021-12-31T10:14:01.226211",
     "status": "completed"
    },
    "tags": []
   },
   "outputs": [],
   "source": [
    "total_results = []\n",
    "for model in models:\n",
    "    total_results.append(model.predict(test_ds).reshape(-1))\n",
    "results = np.mean(total_results, axis=0).reshape(-1)"
   ]
  },
  {
   "cell_type": "code",
   "execution_count": 20,
   "id": "65c794ae",
   "metadata": {
    "execution": {
     "iopub.execute_input": "2021-12-31T10:14:15.766159Z",
     "iopub.status.busy": "2021-12-31T10:14:15.765537Z",
     "iopub.status.idle": "2021-12-31T10:14:15.786594Z",
     "shell.execute_reply": "2021-12-31T10:14:15.787029Z",
     "shell.execute_reply.started": "2021-12-31T08:49:14.744350Z"
    },
    "papermill": {
     "duration": 3.666086,
     "end_time": "2021-12-31T10:14:15.787170",
     "exception": false,
     "start_time": "2021-12-31T10:14:12.121084",
     "status": "completed"
    },
    "tags": []
   },
   "outputs": [
    {
     "data": {
      "text/html": [
       "<div>\n",
       "<style scoped>\n",
       "    .dataframe tbody tr th:only-of-type {\n",
       "        vertical-align: middle;\n",
       "    }\n",
       "\n",
       "    .dataframe tbody tr th {\n",
       "        vertical-align: top;\n",
       "    }\n",
       "\n",
       "    .dataframe thead th {\n",
       "        text-align: right;\n",
       "    }\n",
       "</style>\n",
       "<table border=\"1\" class=\"dataframe\">\n",
       "  <thead>\n",
       "    <tr style=\"text-align: right;\">\n",
       "      <th></th>\n",
       "      <th>Id</th>\n",
       "      <th>Pawpularity</th>\n",
       "    </tr>\n",
       "  </thead>\n",
       "  <tbody>\n",
       "    <tr>\n",
       "      <th>0</th>\n",
       "      <td>4128bae22183829d2b5fea10effdb0c3</td>\n",
       "      <td>36.005703</td>\n",
       "    </tr>\n",
       "    <tr>\n",
       "      <th>1</th>\n",
       "      <td>43a2262d7738e3d420d453815151079e</td>\n",
       "      <td>31.368555</td>\n",
       "    </tr>\n",
       "    <tr>\n",
       "      <th>2</th>\n",
       "      <td>4e429cead1848a298432a0acad014c9d</td>\n",
       "      <td>32.342007</td>\n",
       "    </tr>\n",
       "    <tr>\n",
       "      <th>3</th>\n",
       "      <td>80bc3ccafcc51b66303c2c263aa38486</td>\n",
       "      <td>29.542236</td>\n",
       "    </tr>\n",
       "    <tr>\n",
       "      <th>4</th>\n",
       "      <td>8f49844c382931444e68dffbe20228f4</td>\n",
       "      <td>26.014105</td>\n",
       "    </tr>\n",
       "    <tr>\n",
       "      <th>5</th>\n",
       "      <td>b03f7041962238a7c9d6537e22f9b017</td>\n",
       "      <td>34.133095</td>\n",
       "    </tr>\n",
       "    <tr>\n",
       "      <th>6</th>\n",
       "      <td>c978013571258ed6d4637f6e8cc9d6a3</td>\n",
       "      <td>25.989162</td>\n",
       "    </tr>\n",
       "    <tr>\n",
       "      <th>7</th>\n",
       "      <td>e0de453c1bffc20c22b072b34b54e50f</td>\n",
       "      <td>30.432556</td>\n",
       "    </tr>\n",
       "  </tbody>\n",
       "</table>\n",
       "</div>"
      ],
      "text/plain": [
       "                                 Id  Pawpularity\n",
       "0  4128bae22183829d2b5fea10effdb0c3    36.005703\n",
       "1  43a2262d7738e3d420d453815151079e    31.368555\n",
       "2  4e429cead1848a298432a0acad014c9d    32.342007\n",
       "3  80bc3ccafcc51b66303c2c263aa38486    29.542236\n",
       "4  8f49844c382931444e68dffbe20228f4    26.014105\n",
       "5  b03f7041962238a7c9d6537e22f9b017    34.133095\n",
       "6  c978013571258ed6d4637f6e8cc9d6a3    25.989162\n",
       "7  e0de453c1bffc20c22b072b34b54e50f    30.432556"
      ]
     },
     "execution_count": 20,
     "metadata": {},
     "output_type": "execute_result"
    }
   ],
   "source": [
    "sample_submission[\"Pawpularity\"] = results\n",
    "sample_submission.to_csv(\"submission.csv\", index=False)\n",
    "sample_submission"
   ]
  }
 ],
 "metadata": {
  "kernelspec": {
   "display_name": "Python 3",
   "language": "python",
   "name": "python3"
  },
  "language_info": {
   "codemirror_mode": {
    "name": "ipython",
    "version": 3
   },
   "file_extension": ".py",
   "mimetype": "text/x-python",
   "name": "python",
   "nbconvert_exporter": "python",
   "pygments_lexer": "ipython3",
   "version": "3.7.10"
  },
  "papermill": {
   "default_parameters": {},
   "duration": 2678.775463,
   "end_time": "2021-12-31T10:14:23.005662",
   "environment_variables": {},
   "exception": null,
   "input_path": "__notebook__.ipynb",
   "output_path": "__notebook__.ipynb",
   "parameters": {},
   "start_time": "2021-12-31T09:29:44.230199",
   "version": "2.3.3"
  }
 },
 "nbformat": 4,
 "nbformat_minor": 5
}
