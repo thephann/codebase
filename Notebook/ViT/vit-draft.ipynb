{
 "cells": [
  {
   "cell_type": "code",
   "execution_count": 1,
   "id": "5e3f957c",
   "metadata": {
    "_cell_guid": "b1076dfc-b9ad-4769-8c92-a6c4dae69d19",
    "_uuid": "8f2839f25d086af736a60e9eeb907d3b93b6e0e5",
    "execution": {
     "iopub.execute_input": "2022-03-09T18:15:17.230899Z",
     "iopub.status.busy": "2022-03-09T18:15:17.229379Z",
     "iopub.status.idle": "2022-03-09T18:15:20.139551Z",
     "shell.execute_reply": "2022-03-09T18:15:20.138496Z",
     "shell.execute_reply.started": "2022-03-09T15:55:00.088569Z"
    },
    "papermill": {
     "duration": 2.93986,
     "end_time": "2022-03-09T18:15:20.139718",
     "exception": false,
     "start_time": "2022-03-09T18:15:17.199858",
     "status": "completed"
    },
    "tags": []
   },
   "outputs": [],
   "source": [
    "from torch import Tensor\n",
    "from PIL import Image\n",
    "from torchvision.transforms import Compose, Resize, ToTensor\n",
    "\n",
    "import torch\n",
    "import torchvision \n",
    "from torchvision import datasets, transforms\n",
    "import torch.nn as nn\n",
    "import torch.nn.functional as F\n",
    "from torch.utils.data import DataLoader\n",
    "import numpy as np\n",
    "import matplotlib.pyplot as plt\n",
    "import pandas as pd\n",
    "from torch.utils.data import Dataset\n",
    "import PIL\n",
    "import os\n",
    "import cv2\n",
    "from torch.utils.data.sampler import SubsetRandomSampler\n",
    "from sklearn.model_selection import KFold\n",
    "from torch.nn import Linear, ReLU, CrossEntropyLoss, Sequential, Conv2d, MaxPool2d, Module, Softmax, BatchNorm2d, Dropout\n",
    "from torch import optim\n",
    "import time\n",
    "import random\n",
    "from sklearn.model_selection import StratifiedKFold\n",
    "import math\n",
    "from torchvision import models\n",
    "import datetime\n",
    "from torch.utils.data.dataset import Subset\n",
    "from torchvision.models import resnet50"
   ]
  },
  {
   "cell_type": "code",
   "execution_count": 2,
   "id": "ca6ba8b6",
   "metadata": {
    "execution": {
     "iopub.execute_input": "2022-03-09T18:15:20.193327Z",
     "iopub.status.busy": "2022-03-09T18:15:20.192531Z",
     "iopub.status.idle": "2022-03-09T18:15:29.119119Z",
     "shell.execute_reply": "2022-03-09T18:15:29.118065Z",
     "shell.execute_reply.started": "2022-03-09T15:55:03.654095Z"
    },
    "papermill": {
     "duration": 8.955321,
     "end_time": "2022-03-09T18:15:29.119254",
     "exception": false,
     "start_time": "2022-03-09T18:15:20.163933",
     "status": "completed"
    },
    "tags": []
   },
   "outputs": [
    {
     "name": "stdout",
     "output_type": "stream",
     "text": [
      "Collecting einops\r\n",
      "  Downloading einops-0.4.1-py3-none-any.whl (28 kB)\r\n",
      "Installing collected packages: einops\r\n",
      "Successfully installed einops-0.4.1\r\n",
      "\u001b[33mWARNING: Running pip as the 'root' user can result in broken permissions and conflicting behaviour with the system package manager. It is recommended to use a virtual environment instead: https://pip.pypa.io/warnings/venv\u001b[0m\r\n"
     ]
    }
   ],
   "source": [
    "!pip install einops"
   ]
  },
  {
   "cell_type": "code",
   "execution_count": 3,
   "id": "278a73a2",
   "metadata": {
    "execution": {
     "iopub.execute_input": "2022-03-09T18:15:29.177317Z",
     "iopub.status.busy": "2022-03-09T18:15:29.176661Z",
     "iopub.status.idle": "2022-03-09T18:15:36.643737Z",
     "shell.execute_reply": "2022-03-09T18:15:36.643267Z",
     "shell.execute_reply.started": "2022-03-09T15:55:15.269653Z"
    },
    "papermill": {
     "duration": 7.498931,
     "end_time": "2022-03-09T18:15:36.643867",
     "exception": false,
     "start_time": "2022-03-09T18:15:29.144936",
     "status": "completed"
    },
    "tags": []
   },
   "outputs": [
    {
     "name": "stdout",
     "output_type": "stream",
     "text": [
      "Collecting torchsummary\r\n",
      "  Downloading torchsummary-1.5.1-py3-none-any.whl (2.8 kB)\r\n",
      "Installing collected packages: torchsummary\r\n",
      "Successfully installed torchsummary-1.5.1\r\n",
      "\u001b[33mWARNING: Running pip as the 'root' user can result in broken permissions and conflicting behaviour with the system package manager. It is recommended to use a virtual environment instead: https://pip.pypa.io/warnings/venv\u001b[0m\r\n"
     ]
    }
   ],
   "source": [
    "!pip install torchsummary"
   ]
  },
  {
   "cell_type": "code",
   "execution_count": 4,
   "id": "dd61f7a4",
   "metadata": {
    "execution": {
     "iopub.execute_input": "2022-03-09T18:15:36.701265Z",
     "iopub.status.busy": "2022-03-09T18:15:36.700482Z",
     "iopub.status.idle": "2022-03-09T18:15:36.710176Z",
     "shell.execute_reply": "2022-03-09T18:15:36.709684Z",
     "shell.execute_reply.started": "2022-03-09T15:55:25.576485Z"
    },
    "papermill": {
     "duration": 0.039998,
     "end_time": "2022-03-09T18:15:36.710290",
     "exception": false,
     "start_time": "2022-03-09T18:15:36.670292",
     "status": "completed"
    },
    "tags": []
   },
   "outputs": [],
   "source": [
    "from einops import rearrange, reduce, repeat\n",
    "from einops.layers.torch import Rearrange, Reduce\n",
    "from torchsummary import summary"
   ]
  },
  {
   "cell_type": "code",
   "execution_count": 5,
   "id": "8ea4f889",
   "metadata": {
    "execution": {
     "iopub.execute_input": "2022-03-09T18:15:36.769331Z",
     "iopub.status.busy": "2022-03-09T18:15:36.767841Z",
     "iopub.status.idle": "2022-03-09T18:15:36.774821Z",
     "shell.execute_reply": "2022-03-09T18:15:36.775407Z",
     "shell.execute_reply.started": "2022-03-09T15:55:25.597492Z"
    },
    "papermill": {
     "duration": 0.039506,
     "end_time": "2022-03-09T18:15:36.775584",
     "exception": false,
     "start_time": "2022-03-09T18:15:36.736078",
     "status": "completed"
    },
    "tags": []
   },
   "outputs": [
    {
     "name": "stdout",
     "output_type": "stream",
     "text": [
      "['sample_submission.csv', 'train.csv', 'test.csv', 'test', 'train']\n"
     ]
    }
   ],
   "source": [
    "data_dir = '../input/petfinder-pawpularity-score/'\n",
    "working_dir = './'\n",
    "global_batch_size = 64\n",
    "workers = 2\n",
    "seed = 42\n",
    "model_name = 'resnet50_pretrained'\n",
    "model_path = model_name\n",
    "print(os.listdir(data_dir))"
   ]
  },
  {
   "cell_type": "code",
   "execution_count": 6,
   "id": "1a326aa9",
   "metadata": {
    "execution": {
     "iopub.execute_input": "2022-03-09T18:15:36.836282Z",
     "iopub.status.busy": "2022-03-09T18:15:36.835651Z",
     "iopub.status.idle": "2022-03-09T18:15:36.841274Z",
     "shell.execute_reply": "2022-03-09T18:15:36.840824Z",
     "shell.execute_reply.started": "2022-03-09T15:55:25.612222Z"
    },
    "papermill": {
     "duration": 0.037662,
     "end_time": "2022-03-09T18:15:36.841393",
     "exception": false,
     "start_time": "2022-03-09T18:15:36.803731",
     "status": "completed"
    },
    "tags": []
   },
   "outputs": [],
   "source": [
    "# Defining a function to seed everything.\n",
    "def seed_everything(seed):\n",
    "    random.seed(seed)\n",
    "    os.environ[\"PYTHONSEED\"] = str(seed)\n",
    "    np.random.seed(seed)\n",
    "    torch.cuda.manual_seed(seed)\n",
    "    torch.cuda.manual_seed_all(seed)\n",
    "    torch.backends.cudnn.deterministic = True\n",
    "\n",
    "# Running the function:\n",
    "seed_everything(seed)"
   ]
  },
  {
   "cell_type": "code",
   "execution_count": 7,
   "id": "e881b0f1",
   "metadata": {
    "execution": {
     "iopub.execute_input": "2022-03-09T18:15:36.898248Z",
     "iopub.status.busy": "2022-03-09T18:15:36.897648Z",
     "iopub.status.idle": "2022-03-09T18:15:36.945543Z",
     "shell.execute_reply": "2022-03-09T18:15:36.945951Z",
     "shell.execute_reply.started": "2022-03-09T15:55:25.624073Z"
    },
    "papermill": {
     "duration": 0.078462,
     "end_time": "2022-03-09T18:15:36.946109",
     "exception": false,
     "start_time": "2022-03-09T18:15:36.867647",
     "status": "completed"
    },
    "tags": []
   },
   "outputs": [
    {
     "data": {
      "text/html": [
       "<div>\n",
       "<style scoped>\n",
       "    .dataframe tbody tr th:only-of-type {\n",
       "        vertical-align: middle;\n",
       "    }\n",
       "\n",
       "    .dataframe tbody tr th {\n",
       "        vertical-align: top;\n",
       "    }\n",
       "\n",
       "    .dataframe thead th {\n",
       "        text-align: right;\n",
       "    }\n",
       "</style>\n",
       "<table border=\"1\" class=\"dataframe\">\n",
       "  <thead>\n",
       "    <tr style=\"text-align: right;\">\n",
       "      <th></th>\n",
       "      <th>Id</th>\n",
       "      <th>Subject Focus</th>\n",
       "      <th>Eyes</th>\n",
       "      <th>Face</th>\n",
       "      <th>Near</th>\n",
       "      <th>Action</th>\n",
       "      <th>Accessory</th>\n",
       "      <th>Group</th>\n",
       "      <th>Collage</th>\n",
       "      <th>Human</th>\n",
       "      <th>Occlusion</th>\n",
       "      <th>Info</th>\n",
       "      <th>Blur</th>\n",
       "      <th>Pawpularity</th>\n",
       "    </tr>\n",
       "  </thead>\n",
       "  <tbody>\n",
       "    <tr>\n",
       "      <th>0</th>\n",
       "      <td>0007de18844b0dbbb5e1f607da0606e0</td>\n",
       "      <td>0</td>\n",
       "      <td>1</td>\n",
       "      <td>1</td>\n",
       "      <td>1</td>\n",
       "      <td>0</td>\n",
       "      <td>0</td>\n",
       "      <td>1</td>\n",
       "      <td>0</td>\n",
       "      <td>0</td>\n",
       "      <td>0</td>\n",
       "      <td>0</td>\n",
       "      <td>0</td>\n",
       "      <td>63</td>\n",
       "    </tr>\n",
       "    <tr>\n",
       "      <th>1</th>\n",
       "      <td>0009c66b9439883ba2750fb825e1d7db</td>\n",
       "      <td>0</td>\n",
       "      <td>1</td>\n",
       "      <td>1</td>\n",
       "      <td>0</td>\n",
       "      <td>0</td>\n",
       "      <td>0</td>\n",
       "      <td>0</td>\n",
       "      <td>0</td>\n",
       "      <td>0</td>\n",
       "      <td>0</td>\n",
       "      <td>0</td>\n",
       "      <td>0</td>\n",
       "      <td>42</td>\n",
       "    </tr>\n",
       "    <tr>\n",
       "      <th>2</th>\n",
       "      <td>0013fd999caf9a3efe1352ca1b0d937e</td>\n",
       "      <td>0</td>\n",
       "      <td>1</td>\n",
       "      <td>1</td>\n",
       "      <td>1</td>\n",
       "      <td>0</td>\n",
       "      <td>0</td>\n",
       "      <td>0</td>\n",
       "      <td>0</td>\n",
       "      <td>1</td>\n",
       "      <td>1</td>\n",
       "      <td>0</td>\n",
       "      <td>0</td>\n",
       "      <td>28</td>\n",
       "    </tr>\n",
       "    <tr>\n",
       "      <th>3</th>\n",
       "      <td>0018df346ac9c1d8413cfcc888ca8246</td>\n",
       "      <td>0</td>\n",
       "      <td>1</td>\n",
       "      <td>1</td>\n",
       "      <td>1</td>\n",
       "      <td>0</td>\n",
       "      <td>0</td>\n",
       "      <td>0</td>\n",
       "      <td>0</td>\n",
       "      <td>0</td>\n",
       "      <td>0</td>\n",
       "      <td>0</td>\n",
       "      <td>0</td>\n",
       "      <td>15</td>\n",
       "    </tr>\n",
       "    <tr>\n",
       "      <th>4</th>\n",
       "      <td>001dc955e10590d3ca4673f034feeef2</td>\n",
       "      <td>0</td>\n",
       "      <td>0</td>\n",
       "      <td>0</td>\n",
       "      <td>1</td>\n",
       "      <td>0</td>\n",
       "      <td>0</td>\n",
       "      <td>1</td>\n",
       "      <td>0</td>\n",
       "      <td>0</td>\n",
       "      <td>0</td>\n",
       "      <td>0</td>\n",
       "      <td>0</td>\n",
       "      <td>72</td>\n",
       "    </tr>\n",
       "  </tbody>\n",
       "</table>\n",
       "</div>"
      ],
      "text/plain": [
       "                                 Id  Subject Focus  Eyes  Face  Near  Action  \\\n",
       "0  0007de18844b0dbbb5e1f607da0606e0              0     1     1     1       0   \n",
       "1  0009c66b9439883ba2750fb825e1d7db              0     1     1     0       0   \n",
       "2  0013fd999caf9a3efe1352ca1b0d937e              0     1     1     1       0   \n",
       "3  0018df346ac9c1d8413cfcc888ca8246              0     1     1     1       0   \n",
       "4  001dc955e10590d3ca4673f034feeef2              0     0     0     1       0   \n",
       "\n",
       "   Accessory  Group  Collage  Human  Occlusion  Info  Blur  Pawpularity  \n",
       "0          0      1        0      0          0     0     0           63  \n",
       "1          0      0        0      0          0     0     0           42  \n",
       "2          0      0        0      1          1     0     0           28  \n",
       "3          0      0        0      0          0     0     0           15  \n",
       "4          0      1        0      0          0     0     0           72  "
      ]
     },
     "execution_count": 7,
     "metadata": {},
     "output_type": "execute_result"
    }
   ],
   "source": [
    "train_data = pd.read_csv(f'{data_dir}train.csv')\n",
    "train_data.head(5)"
   ]
  },
  {
   "cell_type": "code",
   "execution_count": 8,
   "id": "2f4ee18e",
   "metadata": {
    "execution": {
     "iopub.execute_input": "2022-03-09T18:15:37.008838Z",
     "iopub.status.busy": "2022-03-09T18:15:37.008057Z",
     "iopub.status.idle": "2022-03-09T18:15:37.013698Z",
     "shell.execute_reply": "2022-03-09T18:15:37.014087Z",
     "shell.execute_reply.started": "2022-03-09T15:55:25.691375Z"
    },
    "papermill": {
     "duration": 0.041092,
     "end_time": "2022-03-09T18:15:37.014218",
     "exception": false,
     "start_time": "2022-03-09T18:15:36.973126",
     "status": "completed"
    },
    "tags": []
   },
   "outputs": [],
   "source": [
    "class create_dataset(Dataset):\n",
    "    \"\"\"Dataset connecting animal images to the score and annotations\"\"\"\n",
    "\n",
    "    def __init__(self, csv_file, img_dir, transform=transforms.ToTensor()):\n",
    "        \"\"\"\n",
    "        Args:\n",
    "            csv_file (string): Path to the csv file with annotations.\n",
    "            img_dir (string): Directory with all the images.\n",
    "            transform (callable, optional): Optional transform to be applied\n",
    "                on a sample.\n",
    "        \"\"\"\n",
    "\n",
    "        self.annotations_csv = pd.read_csv(csv_file)\n",
    "        self.img_dir = img_dir\n",
    "        self.transform = transform\n",
    "\n",
    "    def __len__(self):\n",
    "        return len(self.annotations_csv)\n",
    "\n",
    "    def __getitem__(self, idx):\n",
    "        if torch.is_tensor(idx):\n",
    "            idx = idx.tolist()\n",
    "\n",
    "        img_name = os.path.join(self.img_dir,\n",
    "                                self.annotations_csv.iloc[idx, 0])\n",
    "\n",
    "        # load each image in PIL format for compatibility with transforms\n",
    "        image = PIL.Image.open(img_name + '.jpg')\n",
    "        \n",
    "        # Columns 1 to 12 contain the annotations\n",
    "        annotations = np.array(self.annotations_csv.iloc[idx, 1:13])\n",
    "        annotations = annotations.astype('float')\n",
    "        # Column 13 has the scores\n",
    "        score = np.array(self.annotations_csv.iloc[idx, 13])\n",
    "        score = torch.tensor(score.astype('float')).view(1).to(torch.float32)\n",
    "\n",
    "        # Apply the transforms\n",
    "        image = self.transform(image)\n",
    "\n",
    "        sample = [image, annotations, score]\n",
    "        return sample"
   ]
  },
  {
   "cell_type": "code",
   "execution_count": 9,
   "id": "bcf83377",
   "metadata": {
    "execution": {
     "iopub.execute_input": "2022-03-09T18:15:37.070957Z",
     "iopub.status.busy": "2022-03-09T18:15:37.070196Z",
     "iopub.status.idle": "2022-03-09T18:15:37.076997Z",
     "shell.execute_reply": "2022-03-09T18:15:37.076571Z",
     "shell.execute_reply.started": "2022-03-09T15:55:25.708881Z"
    },
    "papermill": {
     "duration": 0.035882,
     "end_time": "2022-03-09T18:15:37.077126",
     "exception": false,
     "start_time": "2022-03-09T18:15:37.041244",
     "status": "completed"
    },
    "tags": []
   },
   "outputs": [],
   "source": [
    "## Define transforms with image augmentation on the training set\n",
    "img_transforms = transforms.Compose([transforms.Resize(255),\n",
    "                                     transforms.CenterCrop(224),\n",
    "                                     transforms.RandomHorizontalFlip(),\n",
    "                                     transforms.RandomRotation(20),\n",
    "                                     transforms.ToTensor(),\n",
    "                                     transforms.Normalize(mean=[0.485, 0.456, 0.406],\n",
    "                                                          std=[0.229, 0.224, 0.225])])\n",
    "\n",
    "img_transforms_valid = transforms.Compose([transforms.Resize(255),\n",
    "                                           transforms.CenterCrop(224),\n",
    "                                           transforms.ToTensor(),\n",
    "                                           transforms.Normalize(mean=[0.485, 0.456, 0.406],\n",
    "                                                                std=[0.229, 0.224, 0.225])])"
   ]
  },
  {
   "cell_type": "code",
   "execution_count": 10,
   "id": "db2f3aec",
   "metadata": {
    "execution": {
     "iopub.execute_input": "2022-03-09T18:15:37.141261Z",
     "iopub.status.busy": "2022-03-09T18:15:37.134759Z",
     "iopub.status.idle": "2022-03-09T18:15:37.145529Z",
     "shell.execute_reply": "2022-03-09T18:15:37.145034Z",
     "shell.execute_reply.started": "2022-03-09T15:55:25.732503Z"
    },
    "papermill": {
     "duration": 0.041404,
     "end_time": "2022-03-09T18:15:37.145648",
     "exception": false,
     "start_time": "2022-03-09T18:15:37.104244",
     "status": "completed"
    },
    "tags": []
   },
   "outputs": [],
   "source": [
    "num_bins = int(1+np.log2(len(train_data)))\n",
    "train_data['bins'] = pd.cut(train_data['Pawpularity'],bins=num_bins,labels=False)\n",
    "KF = StratifiedKFold(n_splits=3,random_state=seed,shuffle=True)"
   ]
  },
  {
   "cell_type": "code",
   "execution_count": 11,
   "id": "87450005",
   "metadata": {
    "execution": {
     "iopub.execute_input": "2022-03-09T18:15:37.205289Z",
     "iopub.status.busy": "2022-03-09T18:15:37.204397Z",
     "iopub.status.idle": "2022-03-09T18:15:37.239535Z",
     "shell.execute_reply": "2022-03-09T18:15:37.239095Z",
     "shell.execute_reply.started": "2022-03-09T15:55:25.751829Z"
    },
    "papermill": {
     "duration": 0.067064,
     "end_time": "2022-03-09T18:15:37.239647",
     "exception": false,
     "start_time": "2022-03-09T18:15:37.172583",
     "status": "completed"
    },
    "tags": []
   },
   "outputs": [],
   "source": [
    "# Load the dataset\n",
    "train_dataset = create_dataset(f'{data_dir}train.csv', f'{data_dir}train', transform=img_transforms)\n",
    "valid_dataset = create_dataset(f'{data_dir}train.csv', f'{data_dir}train', transform=img_transforms_valid)"
   ]
  },
  {
   "cell_type": "code",
   "execution_count": 12,
   "id": "cedd0bc5",
   "metadata": {
    "execution": {
     "iopub.execute_input": "2022-03-09T18:15:37.300864Z",
     "iopub.status.busy": "2022-03-09T18:15:37.300368Z",
     "iopub.status.idle": "2022-03-09T18:15:37.383723Z",
     "shell.execute_reply": "2022-03-09T18:15:37.383259Z",
     "shell.execute_reply.started": "2022-03-09T15:55:25.800904Z"
    },
    "papermill": {
     "duration": 0.115093,
     "end_time": "2022-03-09T18:15:37.383831",
     "exception": false,
     "start_time": "2022-03-09T18:15:37.268738",
     "status": "completed"
    },
    "tags": []
   },
   "outputs": [],
   "source": [
    "img = train_dataset[0][0]\n",
    "img = img.unsqueeze(0)"
   ]
  },
  {
   "cell_type": "code",
   "execution_count": 13,
   "id": "5f36a08f",
   "metadata": {
    "execution": {
     "iopub.execute_input": "2022-03-09T18:15:37.442406Z",
     "iopub.status.busy": "2022-03-09T18:15:37.441774Z",
     "iopub.status.idle": "2022-03-09T18:15:37.444389Z",
     "shell.execute_reply": "2022-03-09T18:15:37.444785Z",
     "shell.execute_reply.started": "2022-03-09T15:55:25.902459Z"
    },
    "papermill": {
     "duration": 0.034219,
     "end_time": "2022-03-09T18:15:37.444904",
     "exception": false,
     "start_time": "2022-03-09T18:15:37.410685",
     "status": "completed"
    },
    "tags": []
   },
   "outputs": [
    {
     "data": {
      "text/plain": [
       "torch.Size([1, 3, 224, 224])"
      ]
     },
     "execution_count": 13,
     "metadata": {},
     "output_type": "execute_result"
    }
   ],
   "source": [
    "img.shape"
   ]
  },
  {
   "cell_type": "code",
   "execution_count": 14,
   "id": "3770097f",
   "metadata": {
    "execution": {
     "iopub.execute_input": "2022-03-09T18:15:37.510640Z",
     "iopub.status.busy": "2022-03-09T18:15:37.509847Z",
     "iopub.status.idle": "2022-03-09T18:15:37.518639Z",
     "shell.execute_reply": "2022-03-09T18:15:37.518211Z",
     "shell.execute_reply.started": "2022-03-09T15:55:25.913485Z"
    },
    "papermill": {
     "duration": 0.046659,
     "end_time": "2022-03-09T18:15:37.518741",
     "exception": false,
     "start_time": "2022-03-09T18:15:37.472082",
     "status": "completed"
    },
    "tags": []
   },
   "outputs": [],
   "source": [
    "class PatchEmbedding(nn.Module):\n",
    "    def __init__(self, in_channels: int = 3, patch_size: int = 16, emb_size: int = 768, img_size: int = 224):\n",
    "        self.patch_size = patch_size\n",
    "        super().__init__()\n",
    "        self.projection = nn.Sequential(\n",
    "            # using a conv layer instead of a linear one -> performance gains\n",
    "            nn.Conv2d(in_channels, emb_size, kernel_size=patch_size, stride=patch_size),\n",
    "            Rearrange('b e (h) (w) -> b (h w) e'),\n",
    "        )\n",
    "        self.cls_token = nn.Parameter(torch.randn(1,1, emb_size))\n",
    "        self.positions = nn.Parameter(torch.randn((img_size // patch_size) **2 + 1, emb_size))\n",
    "\n",
    "        \n",
    "    def forward(self, x: Tensor) -> Tensor:\n",
    "        b, _, _, _ = x.shape\n",
    "        x = self.projection(x)\n",
    "        cls_tokens = repeat(self.cls_token, '() n e -> b n e', b=b)\n",
    "        # prepend the cls token to the input\n",
    "        x = torch.cat([cls_tokens, x], dim=1)\n",
    "        # add position embedding\n",
    "        x += self.positions\n",
    "        return x"
   ]
  },
  {
   "cell_type": "code",
   "execution_count": 15,
   "id": "77e89dd7",
   "metadata": {
    "execution": {
     "iopub.execute_input": "2022-03-09T18:15:37.576270Z",
     "iopub.status.busy": "2022-03-09T18:15:37.575472Z",
     "iopub.status.idle": "2022-03-09T18:15:37.638520Z",
     "shell.execute_reply": "2022-03-09T18:15:37.638013Z",
     "shell.execute_reply.started": "2022-03-09T15:55:25.930579Z"
    },
    "papermill": {
     "duration": 0.092565,
     "end_time": "2022-03-09T18:15:37.638626",
     "exception": false,
     "start_time": "2022-03-09T18:15:37.546061",
     "status": "completed"
    },
    "tags": []
   },
   "outputs": [
    {
     "data": {
      "text/plain": [
       "torch.Size([1, 197, 768])"
      ]
     },
     "execution_count": 15,
     "metadata": {},
     "output_type": "execute_result"
    }
   ],
   "source": [
    "PatchEmbedding()(img).shape"
   ]
  },
  {
   "cell_type": "code",
   "execution_count": 16,
   "id": "45059be2",
   "metadata": {
    "execution": {
     "iopub.execute_input": "2022-03-09T18:15:37.703154Z",
     "iopub.status.busy": "2022-03-09T18:15:37.702401Z",
     "iopub.status.idle": "2022-03-09T18:15:37.704781Z",
     "shell.execute_reply": "2022-03-09T18:15:37.704390Z",
     "shell.execute_reply.started": "2022-03-09T15:55:26.023126Z"
    },
    "papermill": {
     "duration": 0.038588,
     "end_time": "2022-03-09T18:15:37.704886",
     "exception": false,
     "start_time": "2022-03-09T18:15:37.666298",
     "status": "completed"
    },
    "tags": []
   },
   "outputs": [],
   "source": [
    "class MultiHeadAttention(nn.Module):\n",
    "    def __init__(self, emb_size: int = 768, num_heads: int = 8, dropout: float = 0):\n",
    "        super().__init__()\n",
    "        self.emb_size = emb_size\n",
    "        self.num_heads = num_heads\n",
    "        # fuse the queries, keys and values in one matrix\n",
    "        self.qkv = nn.Linear(emb_size, emb_size * 3)\n",
    "        self.att_drop = nn.Dropout(dropout)\n",
    "        self.projection = nn.Linear(emb_size, emb_size)\n",
    "        \n",
    "    def forward(self, x : Tensor, mask: Tensor = None) -> Tensor:\n",
    "        # split keys, queries and values in num_heads\n",
    "        qkv = rearrange(self.qkv(x), \"b n (h d qkv) -> (qkv) b h n d\", h=self.num_heads, qkv=3)\n",
    "        queries, keys, values = qkv[0], qkv[1], qkv[2]\n",
    "        # sum up over the last axis\n",
    "        energy = torch.einsum('bhqd, bhkd -> bhqk', queries, keys) # batch, num_heads, query_len, key_len\n",
    "        if mask is not None:\n",
    "            fill_value = torch.finfo(torch.float32).min\n",
    "            energy.mask_fill(~mask, fill_value)\n",
    "            \n",
    "        scaling = self.emb_size ** (1/2)\n",
    "        att = F.softmax(energy, dim=-1) / scaling\n",
    "        att = self.att_drop(att)\n",
    "        # sum up over the third axis\n",
    "        out = torch.einsum('bhal, bhlv -> bhav ', att, values)\n",
    "        out = rearrange(out, \"b h n d -> b n (h d)\")\n",
    "        out = self.projection(out)\n",
    "        return out"
   ]
  },
  {
   "cell_type": "code",
   "execution_count": 17,
   "id": "6abd4ab5",
   "metadata": {
    "execution": {
     "iopub.execute_input": "2022-03-09T18:15:37.764968Z",
     "iopub.status.busy": "2022-03-09T18:15:37.764164Z",
     "iopub.status.idle": "2022-03-09T18:15:37.766715Z",
     "shell.execute_reply": "2022-03-09T18:15:37.766270Z",
     "shell.execute_reply.started": "2022-03-09T15:55:26.039266Z"
    },
    "papermill": {
     "duration": 0.034746,
     "end_time": "2022-03-09T18:15:37.766819",
     "exception": false,
     "start_time": "2022-03-09T18:15:37.732073",
     "status": "completed"
    },
    "tags": []
   },
   "outputs": [],
   "source": [
    "class ResidualAdd(nn.Module):\n",
    "    def __init__(self, fn):\n",
    "        super().__init__()\n",
    "        self.fn = fn\n",
    "        \n",
    "    def forward(self, x, **kwargs):\n",
    "        res = x\n",
    "        x = self.fn(x, **kwargs)\n",
    "        x += res\n",
    "        return x"
   ]
  },
  {
   "cell_type": "code",
   "execution_count": 18,
   "id": "958c778c",
   "metadata": {
    "execution": {
     "iopub.execute_input": "2022-03-09T18:15:37.827401Z",
     "iopub.status.busy": "2022-03-09T18:15:37.826752Z",
     "iopub.status.idle": "2022-03-09T18:15:37.829815Z",
     "shell.execute_reply": "2022-03-09T18:15:37.829330Z",
     "shell.execute_reply.started": "2022-03-09T15:55:26.054512Z"
    },
    "papermill": {
     "duration": 0.035567,
     "end_time": "2022-03-09T18:15:37.829923",
     "exception": false,
     "start_time": "2022-03-09T18:15:37.794356",
     "status": "completed"
    },
    "tags": []
   },
   "outputs": [],
   "source": [
    "class FeedForwardBlock(nn.Sequential):\n",
    "    def __init__(self, emb_size: int, expansion: int = 4, drop_p: float = 0.):\n",
    "        super().__init__(\n",
    "            nn.Linear(emb_size, expansion * emb_size),\n",
    "            nn.GELU(),\n",
    "            nn.Dropout(drop_p),\n",
    "            nn.Linear(expansion * emb_size, emb_size),\n",
    "        )"
   ]
  },
  {
   "cell_type": "code",
   "execution_count": 19,
   "id": "4b88efa7",
   "metadata": {
    "execution": {
     "iopub.execute_input": "2022-03-09T18:15:37.891783Z",
     "iopub.status.busy": "2022-03-09T18:15:37.890917Z",
     "iopub.status.idle": "2022-03-09T18:15:37.892737Z",
     "shell.execute_reply": "2022-03-09T18:15:37.893213Z",
     "shell.execute_reply.started": "2022-03-09T15:55:26.067070Z"
    },
    "papermill": {
     "duration": 0.03555,
     "end_time": "2022-03-09T18:15:37.893334",
     "exception": false,
     "start_time": "2022-03-09T18:15:37.857784",
     "status": "completed"
    },
    "tags": []
   },
   "outputs": [],
   "source": [
    "class TransformerEncoderBlock(nn.Sequential):\n",
    "    def __init__(self,\n",
    "                 emb_size: int = 768,\n",
    "                 drop_p: float = 0.,\n",
    "                 forward_expansion: int = 4,\n",
    "                 forward_drop_p: float = 0.,\n",
    "                 ** kwargs):\n",
    "        super().__init__(\n",
    "            ResidualAdd(nn.Sequential(\n",
    "                nn.LayerNorm(emb_size),\n",
    "                MultiHeadAttention(emb_size, **kwargs),\n",
    "                nn.Dropout(drop_p)\n",
    "            )),\n",
    "            ResidualAdd(nn.Sequential(\n",
    "                nn.LayerNorm(emb_size),\n",
    "                FeedForwardBlock(\n",
    "                    emb_size, expansion=forward_expansion, drop_p=forward_drop_p),\n",
    "                nn.Dropout(drop_p)\n",
    "            )\n",
    "            ))"
   ]
  },
  {
   "cell_type": "code",
   "execution_count": 20,
   "id": "f37afaa8",
   "metadata": {
    "execution": {
     "iopub.execute_input": "2022-03-09T18:15:37.956559Z",
     "iopub.status.busy": "2022-03-09T18:15:37.955817Z",
     "iopub.status.idle": "2022-03-09T18:15:38.069531Z",
     "shell.execute_reply": "2022-03-09T18:15:38.069931Z",
     "shell.execute_reply.started": "2022-03-09T15:55:26.079638Z"
    },
    "papermill": {
     "duration": 0.147803,
     "end_time": "2022-03-09T18:15:38.070092",
     "exception": false,
     "start_time": "2022-03-09T18:15:37.922289",
     "status": "completed"
    },
    "tags": []
   },
   "outputs": [
    {
     "data": {
      "text/plain": [
       "torch.Size([1, 197, 768])"
      ]
     },
     "execution_count": 20,
     "metadata": {},
     "output_type": "execute_result"
    }
   ],
   "source": [
    "patches_embedded = PatchEmbedding()(img)\n",
    "MultiHeadAttention()(patches_embedded).shape"
   ]
  },
  {
   "cell_type": "code",
   "execution_count": 21,
   "id": "fe2740c2",
   "metadata": {
    "execution": {
     "iopub.execute_input": "2022-03-09T18:15:38.132295Z",
     "iopub.status.busy": "2022-03-09T18:15:38.130781Z",
     "iopub.status.idle": "2022-03-09T18:15:38.132919Z",
     "shell.execute_reply": "2022-03-09T18:15:38.133364Z",
     "shell.execute_reply.started": "2022-03-09T15:55:26.205920Z"
    },
    "papermill": {
     "duration": 0.034999,
     "end_time": "2022-03-09T18:15:38.133492",
     "exception": false,
     "start_time": "2022-03-09T18:15:38.098493",
     "status": "completed"
    },
    "tags": []
   },
   "outputs": [],
   "source": [
    "class TransformerEncoder(nn.Sequential):\n",
    "    def __init__(self, depth: int = 12, **kwargs):\n",
    "        super().__init__(*[TransformerEncoderBlock(**kwargs) for _ in range(depth)])"
   ]
  },
  {
   "cell_type": "code",
   "execution_count": 22,
   "id": "78860285",
   "metadata": {
    "execution": {
     "iopub.execute_input": "2022-03-09T18:15:38.193914Z",
     "iopub.status.busy": "2022-03-09T18:15:38.193271Z",
     "iopub.status.idle": "2022-03-09T18:15:38.195424Z",
     "shell.execute_reply": "2022-03-09T18:15:38.195794Z",
     "shell.execute_reply.started": "2022-03-09T15:55:26.215315Z"
    },
    "papermill": {
     "duration": 0.034668,
     "end_time": "2022-03-09T18:15:38.195916",
     "exception": false,
     "start_time": "2022-03-09T18:15:38.161248",
     "status": "completed"
    },
    "tags": []
   },
   "outputs": [],
   "source": [
    "class ClassificationHead(nn.Sequential):\n",
    "    def __init__(self, emb_size: int = 768, n_classes: int = 1000):\n",
    "        super().__init__(\n",
    "            Reduce('b n e -> b e', reduction='mean'),\n",
    "            nn.LayerNorm(emb_size), \n",
    "            nn.Linear(emb_size, n_classes))"
   ]
  },
  {
   "cell_type": "code",
   "execution_count": 23,
   "id": "a20dc883",
   "metadata": {
    "execution": {
     "iopub.execute_input": "2022-03-09T18:15:38.253928Z",
     "iopub.status.busy": "2022-03-09T18:15:38.253194Z",
     "iopub.status.idle": "2022-03-09T18:15:38.258762Z",
     "shell.execute_reply": "2022-03-09T18:15:38.259162Z",
     "shell.execute_reply.started": "2022-03-09T15:55:26.227652Z"
    },
    "papermill": {
     "duration": 0.035802,
     "end_time": "2022-03-09T18:15:38.259288",
     "exception": false,
     "start_time": "2022-03-09T18:15:38.223486",
     "status": "completed"
    },
    "tags": []
   },
   "outputs": [],
   "source": [
    "class ViT(nn.Sequential):\n",
    "    def __init__(self,     \n",
    "                in_channels: int = 3,\n",
    "                patch_size: int = 16,\n",
    "                emb_size: int = 768,\n",
    "                img_size: int = 224,\n",
    "                depth: int = 12,\n",
    "                n_classes: int = 1,\n",
    "                **kwargs):\n",
    "        super().__init__(\n",
    "            PatchEmbedding(in_channels, patch_size, emb_size, img_size),\n",
    "            TransformerEncoder(depth, emb_size=emb_size, **kwargs),\n",
    "            ClassificationHead(emb_size, n_classes)\n",
    "        )"
   ]
  },
  {
   "cell_type": "code",
   "execution_count": 24,
   "id": "e90e90a9",
   "metadata": {
    "execution": {
     "iopub.execute_input": "2022-03-09T18:15:38.324093Z",
     "iopub.status.busy": "2022-03-09T18:15:38.323295Z",
     "iopub.status.idle": "2022-03-09T18:15:38.325642Z",
     "shell.execute_reply": "2022-03-09T18:15:38.325209Z",
     "shell.execute_reply.started": "2022-03-09T15:58:15.219565Z"
    },
    "papermill": {
     "duration": 0.038316,
     "end_time": "2022-03-09T18:15:38.325743",
     "exception": false,
     "start_time": "2022-03-09T18:15:38.287427",
     "status": "completed"
    },
    "tags": []
   },
   "outputs": [],
   "source": [
    "# resouces: https://github.com/Bjarten/early-stopping-pytorch/blob/master/pytorchtools.py\n",
    "class EarlyStopping:\n",
    "    \n",
    "    def __init__(self,patience,verbose,path,trace_func):\n",
    "        self.patience = patience\n",
    "        self.verbose = verbose\n",
    "        self.path = path\n",
    "        self.counter = -1\n",
    "        self.best_score = None\n",
    "        self.early_stop = False\n",
    "        self.val_loss_min = np.Inf\n",
    "        self.trace_func = trace_func\n",
    "        \n",
    "    def __call__(self,val_loss,model):\n",
    "        \n",
    "        if self.best_score is None:\n",
    "            self.best_score = val_loss\n",
    "            self.checkpoint(val_loss,model)\n",
    "        \n",
    "        if val_loss < self.best_score:\n",
    "            self.best_score = val_loss\n",
    "            self.checkpoint(val_loss,model)\n",
    "            self.counter = 0\n",
    "        else:\n",
    "            self.counter += 1\n",
    "            if self.counter >= self.patience:\n",
    "                self.early_stop = True\n",
    "                \n",
    "        return self.path\n",
    "    \n",
    "    def checkpoint(self,val_loss,model):\n",
    "        if self.verbose:\n",
    "            self.trace_func(f'Validation loss decreased ({self.val_loss_min:.6f} --> {val_loss:.6f}).  Saving model ...')\n",
    "        torch.save(model.state_dict(),self.path)\n",
    "        self.val_loss_min = val_loss"
   ]
  },
  {
   "cell_type": "code",
   "execution_count": 25,
   "id": "6a2774ba",
   "metadata": {
    "execution": {
     "iopub.execute_input": "2022-03-09T18:15:38.430297Z",
     "iopub.status.busy": "2022-03-09T18:15:38.429600Z",
     "iopub.status.idle": "2022-03-09T18:15:38.432512Z",
     "shell.execute_reply": "2022-03-09T18:15:38.433081Z",
     "shell.execute_reply.started": "2022-03-09T15:58:18.370885Z"
    },
    "papermill": {
     "duration": 0.08001,
     "end_time": "2022-03-09T18:15:38.433268",
     "exception": false,
     "start_time": "2022-03-09T18:15:38.353258",
     "status": "completed"
    },
    "tags": []
   },
   "outputs": [
    {
     "name": "stdout",
     "output_type": "stream",
     "text": [
      "CUDA is available!  Training on GPU Tesla P100-PCIE-16GB...\n"
     ]
    }
   ],
   "source": [
    "# check if CUDA is available and set the training device\n",
    "\n",
    "train_on_gpu = torch.cuda.is_available()\n",
    "device = torch.cuda.get_device_name()\n",
    "\n",
    "if not train_on_gpu:\n",
    "    print('CUDA is not available.  Training on CPU ...')\n",
    "else:\n",
    "    print(f'CUDA is available!  Training on GPU {device}...')"
   ]
  },
  {
   "cell_type": "code",
   "execution_count": 26,
   "id": "081d21b9",
   "metadata": {
    "execution": {
     "iopub.execute_input": "2022-03-09T18:15:38.498991Z",
     "iopub.status.busy": "2022-03-09T18:15:38.498213Z",
     "iopub.status.idle": "2022-03-09T18:15:38.505874Z",
     "shell.execute_reply": "2022-03-09T18:15:38.505481Z",
     "shell.execute_reply.started": "2022-03-09T16:05:35.347629Z"
    },
    "papermill": {
     "duration": 0.043559,
     "end_time": "2022-03-09T18:15:38.505977",
     "exception": false,
     "start_time": "2022-03-09T18:15:38.462418",
     "status": "completed"
    },
    "tags": []
   },
   "outputs": [],
   "source": [
    "def training_loop(n_epochs,optimizer,model,loss_fn,train_loader,val_loader,model_path,fold):\n",
    "\n",
    "    earlystopping = EarlyStopping(patience=7,verbose=False,path=model_path,trace_func=print)\n",
    "    train_losses, valid_losses = [], []\n",
    "    \n",
    "    for epoch in range(1,n_epochs+1):\n",
    "        start = time.time()\n",
    "        current_lr = scheduler.get_last_lr()[0]\n",
    "        \n",
    "        # keep track of training and validation loss\n",
    "        train_loss = 0.0\n",
    "        valid_loss = 0.0\n",
    "        \n",
    "        ###################\n",
    "        # train the model #\n",
    "        ###################\n",
    "        # put in training mode (enable dropout)\n",
    "        model.train()\n",
    "        for images, annotations, scores in train_loader:\n",
    "            # move tensors to GPU if CUDA is available\n",
    "            if train_on_gpu:\n",
    "                images, annotations, scores = images.cuda(), annotations.cuda(), scores.cuda()\n",
    "            # clear the gradients of all optimized variables\n",
    "            optimizer.zero_grad()\n",
    "            # forward pass: compute predicted outputs by passing inputs to the model\n",
    "            output = model(images)*100 # multiply by 100 the sigmoid output to 0-100 pawpularity scale\n",
    "            # print(output.dtype)\n",
    "            # print(scores.dtype)\n",
    "            # calculate the batch loss\n",
    "            loss = loss_fn(output, scores)\n",
    "            # backward pass: compute gradient of the loss with respect to model parameters\n",
    "            loss.backward()\n",
    "            # perform a single optimization step (parameter update)\n",
    "            optimizer.step()\n",
    "            # update training loss\n",
    "            train_loss += loss.item()\n",
    "        \n",
    "        ######################    \n",
    "        # validate the model #\n",
    "        ######################\n",
    "        # eval mode (no dropout)\n",
    "        model.eval()\n",
    "        with torch.no_grad():\n",
    "            for images, annotations, scores in valid_loader:\n",
    "                # move tensors to GPU if CUDA is available\n",
    "                if train_on_gpu:\n",
    "                    images, annotations, scores = images.cuda(), annotations.cuda(), scores.cuda()\n",
    "                # forward pass: compute predicted outputs by passing inputs to the model\n",
    "                output = model(images)*100 # multiply by 100 the sigmoid output to 0-100 pawpularity scale\n",
    "                # calculate the batch loss\n",
    "                loss = loss_fn(output, scores)\n",
    "                # update average validation loss \n",
    "                valid_loss += loss.item()\n",
    "        \n",
    "        # calculate RMSE\n",
    "        train_loss = math.sqrt(train_loss/len(train_loader.sampler))\n",
    "        valid_loss = math.sqrt(valid_loss/len(valid_loader.sampler))\n",
    "    \n",
    "        train_losses.append(train_loss)\n",
    "        valid_losses.append(valid_loss)  \n",
    "       \n",
    "        # increment learning rate decay\n",
    "        scheduler.step()\n",
    "        \n",
    "         # print training/validation statistics \n",
    "#         print('Epoch: {}, time: {:.1f}s, lr: {:.7f} \\tTraining Loss: {:.3f} \\tValidation Loss: {:.3f}'.format(\n",
    "#             epoch, float(time.time() - start), current_lr, train_loss, valid_loss))\n",
    "        \n",
    "        print('Fold: {}, epoch: {}, time: {:.1f}s,lr: {:.7f} \\tTraining Loss: {:.3f} \\tValidation Loss: {:.3f}'.format(\n",
    "        fold,epoch,float(time.time() - start), current_lr,\n",
    "        train_loss, valid_loss))\n",
    "        \n",
    "        earlystopping(valid_loss,model)\n",
    "        if earlystopping.early_stop:\n",
    "            print('{} Fold,{} Epoch ,Early Stopping'.format(fold,epoch-earlystopping.patience))\n",
    "            break"
   ]
  },
  {
   "cell_type": "code",
   "execution_count": 27,
   "id": "b3eb9bdb",
   "metadata": {
    "execution": {
     "iopub.execute_input": "2022-03-09T18:15:38.570844Z",
     "iopub.status.busy": "2022-03-09T18:15:38.570081Z",
     "iopub.status.idle": "2022-03-09T21:28:08.203818Z",
     "shell.execute_reply": "2022-03-09T21:28:08.204289Z"
    },
    "papermill": {
     "duration": 11549.670447,
     "end_time": "2022-03-09T21:28:08.204457",
     "exception": false,
     "start_time": "2022-03-09T18:15:38.534010",
     "status": "completed"
    },
    "tags": []
   },
   "outputs": [
    {
     "name": "stdout",
     "output_type": "stream",
     "text": [
      "Fold: 0, epoch: 1, time: 208.9s,lr: 0.0001000 \tTraining Loss: 17.072 \tValidation Loss: 2.609\n",
      "Fold: 0, epoch: 2, time: 195.3s,lr: 0.0000500 \tTraining Loss: 2.613 \tValidation Loss: 2.639\n",
      "Fold: 0, epoch: 3, time: 193.0s,lr: 0.0000250 \tTraining Loss: 2.611 \tValidation Loss: 2.599\n",
      "Fold: 0, epoch: 4, time: 193.9s,lr: 0.0000250 \tTraining Loss: 2.599 \tValidation Loss: 2.598\n",
      "Fold: 0, epoch: 5, time: 194.1s,lr: 0.0000250 \tTraining Loss: 2.605 \tValidation Loss: 2.613\n",
      "Fold: 0, epoch: 6, time: 195.0s,lr: 0.0000250 \tTraining Loss: 2.596 \tValidation Loss: 2.584\n",
      "Fold: 0, epoch: 7, time: 193.4s,lr: 0.0000125 \tTraining Loss: 2.593 \tValidation Loss: 2.588\n",
      "Fold: 0, epoch: 8, time: 194.9s,lr: 0.0000125 \tTraining Loss: 2.601 \tValidation Loss: 2.593\n",
      "Fold: 0, epoch: 9, time: 193.7s,lr: 0.0000125 \tTraining Loss: 2.594 \tValidation Loss: 2.599\n",
      "Fold: 0, epoch: 10, time: 193.2s,lr: 0.0000125 \tTraining Loss: 2.586 \tValidation Loss: 2.618\n",
      "Fold: 0, epoch: 11, time: 192.8s,lr: 0.0000125 \tTraining Loss: 2.590 \tValidation Loss: 2.581\n",
      "Fold: 0, epoch: 12, time: 193.2s,lr: 0.0000125 \tTraining Loss: 2.586 \tValidation Loss: 2.580\n",
      "Fold: 0, epoch: 13, time: 194.0s,lr: 0.0000125 \tTraining Loss: 2.594 \tValidation Loss: 2.608\n",
      "Fold: 0, epoch: 14, time: 195.0s,lr: 0.0000125 \tTraining Loss: 2.585 \tValidation Loss: 2.584\n",
      "Fold: 0, epoch: 15, time: 194.5s,lr: 0.0000125 \tTraining Loss: 2.592 \tValidation Loss: 2.602\n",
      "Fold: 0, epoch: 16, time: 193.4s,lr: 0.0000125 \tTraining Loss: 2.600 \tValidation Loss: 2.589\n",
      "Fold: 0, epoch: 17, time: 192.8s,lr: 0.0000125 \tTraining Loss: 2.602 \tValidation Loss: 2.626\n",
      "Fold: 0, epoch: 18, time: 196.5s,lr: 0.0000125 \tTraining Loss: 2.602 \tValidation Loss: 2.589\n",
      "Fold: 0, epoch: 19, time: 192.7s,lr: 0.0000125 \tTraining Loss: 2.593 \tValidation Loss: 2.582\n",
      "0 Fold,12 Epoch ,Early Stopping\n",
      "Fold: 1, epoch: 1, time: 193.4s,lr: 0.0001000 \tTraining Loss: 18.049 \tValidation Loss: 2.630\n",
      "Fold: 1, epoch: 2, time: 193.7s,lr: 0.0000500 \tTraining Loss: 2.605 \tValidation Loss: 2.610\n",
      "Fold: 1, epoch: 3, time: 192.9s,lr: 0.0000250 \tTraining Loss: 2.602 \tValidation Loss: 2.609\n",
      "Fold: 1, epoch: 4, time: 194.3s,lr: 0.0000250 \tTraining Loss: 2.588 \tValidation Loss: 2.628\n",
      "Fold: 1, epoch: 5, time: 195.1s,lr: 0.0000250 \tTraining Loss: 2.588 \tValidation Loss: 2.606\n",
      "Fold: 1, epoch: 6, time: 194.8s,lr: 0.0000250 \tTraining Loss: 2.593 \tValidation Loss: 2.598\n",
      "Fold: 1, epoch: 7, time: 194.0s,lr: 0.0000125 \tTraining Loss: 2.586 \tValidation Loss: 2.595\n",
      "Fold: 1, epoch: 8, time: 194.1s,lr: 0.0000125 \tTraining Loss: 2.582 \tValidation Loss: 2.612\n",
      "Fold: 1, epoch: 9, time: 195.5s,lr: 0.0000125 \tTraining Loss: 2.592 \tValidation Loss: 2.593\n",
      "Fold: 1, epoch: 10, time: 193.4s,lr: 0.0000125 \tTraining Loss: 2.582 \tValidation Loss: 2.596\n",
      "Fold: 1, epoch: 11, time: 193.5s,lr: 0.0000125 \tTraining Loss: 2.583 \tValidation Loss: 2.591\n",
      "Fold: 1, epoch: 12, time: 194.0s,lr: 0.0000125 \tTraining Loss: 2.592 \tValidation Loss: 2.591\n",
      "Fold: 1, epoch: 13, time: 194.3s,lr: 0.0000125 \tTraining Loss: 2.587 \tValidation Loss: 2.601\n",
      "Fold: 1, epoch: 14, time: 195.8s,lr: 0.0000125 \tTraining Loss: 2.587 \tValidation Loss: 2.595\n",
      "Fold: 1, epoch: 15, time: 193.3s,lr: 0.0000125 \tTraining Loss: 2.587 \tValidation Loss: 2.587\n",
      "Fold: 1, epoch: 16, time: 192.7s,lr: 0.0000125 \tTraining Loss: 2.585 \tValidation Loss: 2.589\n",
      "Fold: 1, epoch: 17, time: 193.8s,lr: 0.0000125 \tTraining Loss: 2.589 \tValidation Loss: 2.595\n",
      "Fold: 1, epoch: 18, time: 195.1s,lr: 0.0000125 \tTraining Loss: 2.583 \tValidation Loss: 2.586\n",
      "Fold: 1, epoch: 19, time: 193.1s,lr: 0.0000125 \tTraining Loss: 2.586 \tValidation Loss: 2.586\n",
      "Fold: 1, epoch: 20, time: 193.3s,lr: 0.0000125 \tTraining Loss: 2.584 \tValidation Loss: 2.583\n",
      "Fold: 2, epoch: 1, time: 192.8s,lr: 0.0001000 \tTraining Loss: 17.875 \tValidation Loss: 2.619\n",
      "Fold: 2, epoch: 2, time: 192.9s,lr: 0.0000500 \tTraining Loss: 2.608 \tValidation Loss: 2.604\n",
      "Fold: 2, epoch: 3, time: 194.9s,lr: 0.0000250 \tTraining Loss: 2.597 \tValidation Loss: 2.603\n",
      "Fold: 2, epoch: 4, time: 204.1s,lr: 0.0000250 \tTraining Loss: 2.596 \tValidation Loss: 2.600\n",
      "Fold: 2, epoch: 5, time: 212.2s,lr: 0.0000250 \tTraining Loss: 2.589 \tValidation Loss: 2.593\n",
      "Fold: 2, epoch: 6, time: 195.7s,lr: 0.0000250 \tTraining Loss: 2.595 \tValidation Loss: 2.595\n",
      "Fold: 2, epoch: 7, time: 195.4s,lr: 0.0000125 \tTraining Loss: 2.598 \tValidation Loss: 2.596\n",
      "Fold: 2, epoch: 8, time: 195.2s,lr: 0.0000125 \tTraining Loss: 2.587 \tValidation Loss: 2.589\n",
      "Fold: 2, epoch: 9, time: 199.5s,lr: 0.0000125 \tTraining Loss: 2.586 \tValidation Loss: 2.598\n",
      "Fold: 2, epoch: 10, time: 195.1s,lr: 0.0000125 \tTraining Loss: 2.584 \tValidation Loss: 2.587\n",
      "Fold: 2, epoch: 11, time: 201.1s,lr: 0.0000125 \tTraining Loss: 2.586 \tValidation Loss: 2.588\n",
      "Fold: 2, epoch: 12, time: 201.3s,lr: 0.0000125 \tTraining Loss: 2.589 \tValidation Loss: 2.623\n",
      "Fold: 2, epoch: 13, time: 198.3s,lr: 0.0000125 \tTraining Loss: 2.583 \tValidation Loss: 2.595\n",
      "Fold: 2, epoch: 14, time: 196.9s,lr: 0.0000125 \tTraining Loss: 2.582 \tValidation Loss: 2.584\n",
      "Fold: 2, epoch: 15, time: 196.9s,lr: 0.0000125 \tTraining Loss: 2.581 \tValidation Loss: 2.589\n",
      "Fold: 2, epoch: 16, time: 194.8s,lr: 0.0000125 \tTraining Loss: 2.594 \tValidation Loss: 2.593\n",
      "Fold: 2, epoch: 17, time: 194.7s,lr: 0.0000125 \tTraining Loss: 2.589 \tValidation Loss: 2.589\n",
      "Fold: 2, epoch: 18, time: 195.6s,lr: 0.0000125 \tTraining Loss: 2.587 \tValidation Loss: 2.585\n",
      "Fold: 2, epoch: 19, time: 193.7s,lr: 0.0000125 \tTraining Loss: 2.586 \tValidation Loss: 2.600\n",
      "Fold: 2, epoch: 20, time: 193.7s,lr: 0.0000125 \tTraining Loss: 2.592 \tValidation Loss: 2.596\n"
     ]
    }
   ],
   "source": [
    "    model_list= []\n",
    "    for fold,(train_index,val_index) in enumerate(KF.split(train_data,train_data['bins'])):\n",
    "        train_subdata = Subset(train_dataset,train_index)\n",
    "        train_loader = torch.utils.data.DataLoader(train_subdata, batch_size=global_batch_size,\n",
    "                                                   shuffle=True, num_workers=workers,\n",
    "                                                   pin_memory=True) \n",
    "\n",
    "        valid_subdata = Subset(valid_dataset,val_index)\n",
    "        valid_loader = torch.utils.data.DataLoader(valid_subdata, batch_size=global_batch_size,\n",
    "                                                   shuffle=True, num_workers=workers,\n",
    "                                                   pin_memory=True) \n",
    "    \n",
    "        model_path = model_name+str(fold)+'.pt'\n",
    "        model = ViT()\n",
    "        # the size of resnet50 final layer is 1x1x2048 so \n",
    "        # we must reinitialize model.fc to be a Linear layer with 2048 input features and 1 output features\n",
    "        # re: https://pytorch.org/tutorials/beginner/finetuning_torchvision_models_tutorial.html\n",
    "        \n",
    "        optimizer = torch.optim.Adam(params=model.parameters(),lr=1e-4)\n",
    "        scheduler = optim.lr_scheduler.MultiStepLR(optimizer, milestones = [1, 2, 6], gamma=0.5)\n",
    "        criterion = nn.MSELoss()   \n",
    "        if train_on_gpu:\n",
    "            model.cuda()\n",
    "        training_loop(\n",
    "                n_epochs=20,\n",
    "                optimizer=optimizer,\n",
    "                model=model,\n",
    "                loss_fn=criterion,\n",
    "                train_loader=train_loader,\n",
    "                val_loader=valid_loader,\n",
    "                model_path=model_path,\n",
    "                fold=fold\n",
    "            )"
   ]
  }
 ],
 "metadata": {
  "kernelspec": {
   "display_name": "Python 3",
   "language": "python",
   "name": "python3"
  },
  "language_info": {
   "codemirror_mode": {
    "name": "ipython",
    "version": 3
   },
   "file_extension": ".py",
   "mimetype": "text/x-python",
   "name": "python",
   "nbconvert_exporter": "python",
   "pygments_lexer": "ipython3",
   "version": "3.7.12"
  },
  "papermill": {
   "default_parameters": {},
   "duration": 11580.52037,
   "end_time": "2022-03-09T21:28:10.081091",
   "environment_variables": {},
   "exception": null,
   "input_path": "__notebook__.ipynb",
   "output_path": "__notebook__.ipynb",
   "parameters": {},
   "start_time": "2022-03-09T18:15:09.560721",
   "version": "2.3.3"
  }
 },
 "nbformat": 4,
 "nbformat_minor": 5
}
